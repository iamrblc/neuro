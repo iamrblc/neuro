{
 "cells": [
  {
   "cell_type": "markdown",
   "metadata": {},
   "source": [
    "# Audio signal presenter"
   ]
  },
  {
   "cell_type": "code",
   "execution_count": 53,
   "metadata": {},
   "outputs": [],
   "source": [
    "import pygame\n",
    "import time\n",
    "import os\n",
    "import random"
   ]
  },
  {
   "cell_type": "markdown",
   "metadata": {},
   "source": [
    "## Pseudorandom generator"
   ]
  },
  {
   "cell_type": "markdown",
   "metadata": {},
   "source": [
    "Let's create the backbone of the pseudorandom generator"
   ]
  },
  {
   "cell_type": "code",
   "execution_count": 54,
   "metadata": {},
   "outputs": [
    {
     "name": "stdout",
     "output_type": "stream",
     "text": [
      "Original list : \n",
      "['dog_1', 'pig_1', 'human_1', 'environment_1', 'silence_1', 'dog_2', 'pig_2', 'human_2', 'environment_2', 'silence_2', 'dog_3', 'pig_3', 'human_3', 'environment_3', 'silence_3']\n",
      "\n",
      "After shuffling without consecutive repeats : \n",
      "['environment_1', 'pig_2', 'silence_2', 'pig_1', 'dog_1', 'environment_3', 'silence_1', 'human_2', 'pig_3', 'dog_3', 'human_1', 'dog_2', 'environment_2', 'human_3', 'silence_3']\n"
     ]
    }
   ],
   "source": [
    "# Set random seed to ensure reproducibility\n",
    "random.seed(42)\n",
    "\n",
    "# This isolates the tag (dog, human, etc)\n",
    "def get_tag(element):\n",
    "    return element.split('_')[0]\n",
    "\n",
    "# This function shuffles the list without consecutive repeats\n",
    "def pseudorandomizer(lst):\n",
    "    while True:\n",
    "        random.shuffle(lst)                                        # Shuffle the list\n",
    "        for i in range(1, len(lst)):\n",
    "            if get_tag(lst[i]) == get_tag(lst[i - 1]):             # But if two following tags are the same, reshuffle\n",
    "                break\n",
    "        else:\n",
    "            return lst                                             # If they are not the same move on\n",
    "\n",
    "sample_list = ['dog_1', 'pig_1', 'human_1', 'environment_1', 'silence_1', \n",
    "               'dog_2', 'pig_2', 'human_2', 'environment_2', 'silence_2', \n",
    "               'dog_3', 'pig_3', 'human_3', 'environment_3', 'silence_3']\n",
    "\n",
    "print(\"Original list: \")\n",
    "print(sample_list)\n",
    "\n",
    "# Shuffle without consecutive repeats\n",
    "shuffled_list = pseudorandomizer(sample_list)\n",
    "print(\"\\nAfter pseudorandomization: \")\n",
    "print(shuffled_list)\n"
   ]
  },
  {
   "cell_type": "markdown",
   "metadata": {},
   "source": [
    "## Get audio"
   ]
  },
  {
   "cell_type": "code",
   "execution_count": 55,
   "metadata": {},
   "outputs": [
    {
     "name": "stdout",
     "output_type": "stream",
     "text": [
      "Pygame mixer initialized\n",
      "Sound files added\n"
     ]
    }
   ],
   "source": [
    "# Initialize pygame mixer\n",
    "pygame.mixer.init()\n",
    "\n",
    "print (\"Pygame mixer initialized\")\n",
    "\n",
    "# List of sound files to be played sequentially\n",
    "sound_files = ['dog_001.wav',\n",
    "               'dog_002.wav',\n",
    "               'dog_003.wav',\n",
    "               'dog_004.wav',\n",
    "               'dog_005.wav',\n",
    "               'dog_006.wav']\n",
    "\n",
    "print (\"Sound files added\")"
   ]
  },
  {
   "cell_type": "code",
   "execution_count": 56,
   "metadata": {},
   "outputs": [
    {
     "data": {
      "text/plain": [
       "'/home/rblc/elte/neuro/scripts'"
      ]
     },
     "execution_count": 56,
     "metadata": {},
     "output_type": "execute_result"
    }
   ],
   "source": [
    "# CWD is the current working directory\n",
    "os.getcwd()"
   ]
  },
  {
   "cell_type": "code",
   "execution_count": 57,
   "metadata": {},
   "outputs": [
    {
     "name": "stdout",
     "output_type": "stream",
     "text": [
      "Sounds preloaded\n",
      "function declared\n",
      "Sound 1 finished\n",
      "Sound 2 finished\n",
      "Sound 3 finished\n",
      "Sound 4 finished\n",
      "Sound 5 finished\n",
      "Sound 6 finished\n",
      "All sounds finished playing.\n"
     ]
    }
   ],
   "source": [
    "# Preload sound files\n",
    "sounds = [pygame.mixer.Sound(file) for file in sound_files]\n",
    "\n",
    "print (\"Sounds preloaded\")\n",
    "\n",
    "# Function to play a sound file and wait for it to finish\n",
    "def play_sound(sound, sound_number):\n",
    "    sound.play()\n",
    "    time.sleep(sound.get_length())\n",
    "    print(f'Sound {sound_number} finished')\n",
    "\n",
    "print(\"function declared\")\n",
    "\n",
    "# Play each preloaded sound in sequence with a counter\n",
    "for idx, sound in enumerate(sounds, start=1):\n",
    "    play_sound(sound, idx)\n",
    "\n",
    "print(\"All sounds finished playing.\")"
   ]
  }
 ],
 "metadata": {
  "kernelspec": {
   "display_name": "Python 3",
   "language": "python",
   "name": "python3"
  },
  "language_info": {
   "codemirror_mode": {
    "name": "ipython",
    "version": 3
   },
   "file_extension": ".py",
   "mimetype": "text/x-python",
   "name": "python",
   "nbconvert_exporter": "python",
   "pygments_lexer": "ipython3",
   "version": "3.10.12"
  }
 },
 "nbformat": 4,
 "nbformat_minor": 2
}
