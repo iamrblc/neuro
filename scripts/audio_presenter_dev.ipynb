{
 "cells": [
  {
   "cell_type": "markdown",
   "metadata": {},
   "source": [
    "# Audio signal presenter"
   ]
  },
  {
   "cell_type": "code",
   "execution_count": 10,
   "metadata": {},
   "outputs": [],
   "source": [
    "import pygame\n",
    "import time\n",
    "import os\n",
    "import random"
   ]
  },
  {
   "cell_type": "markdown",
   "metadata": {},
   "source": [
    "## Get audio"
   ]
  },
  {
   "cell_type": "code",
   "execution_count": 11,
   "metadata": {},
   "outputs": [
    {
     "name": "stdout",
     "output_type": "stream",
     "text": [
      "The audio modul is initialized\n"
     ]
    }
   ],
   "source": [
    "# Initialize pygame mixer\n",
    "pygame.mixer.init()\n",
    "\n",
    "print (\"The audio modul is initialized\")"
   ]
  },
  {
   "cell_type": "code",
   "execution_count": 12,
   "metadata": {},
   "outputs": [],
   "source": [
    "def sound_loader(tag):\n",
    "    \"\"\"\n",
    "    Load all .wav sounds from the specified folder based on the tag.\n",
    "    \n",
    "    Parameters:\n",
    "    tag (str): The tag for the sounds, which is also the folder name (e.g., dog, pig, human).\n",
    "\n",
    "    Returns:\n",
    "    list: A list of preloaded pygame Sound objects.\n",
    "    \"\"\"\n",
    "    folder = f'../data_audio/{tag}'\n",
    "    sounds_list = []\n",
    "    \n",
    "    # Load all .wav files from the specified folder\n",
    "    for file in os.listdir(folder):\n",
    "        if file.endswith('.wav'):\n",
    "            sounds_list.append(os.path.join(folder, file))\n",
    "    \n",
    "    # Preload sound files\n",
    "    preloaded_sounds = [pygame.mixer.Sound(file) for file in sounds_list]\n",
    "    \n",
    "    print(f\"All {tag} sounds preloaded\")\n",
    "    \n",
    "    return preloaded_sounds"
   ]
  },
  {
   "cell_type": "markdown",
   "metadata": {},
   "source": [
    "### Preload the sounds\n",
    "This step is crucial to avoid lagging due to buffering"
   ]
  },
  {
   "cell_type": "code",
   "execution_count": 13,
   "metadata": {},
   "outputs": [
    {
     "name": "stdout",
     "output_type": "stream",
     "text": [
      "All dog sounds preloaded\n",
      "dog_preloaded_sounds: [<pygame.mixer.Sound object at 0x7f5479d71410>, <pygame.mixer.Sound object at 0x7f5479d73d80>, <pygame.mixer.Sound object at 0x7f5479d72f10>, <pygame.mixer.Sound object at 0x7f5479d73720>, <pygame.mixer.Sound object at 0x7f5479d73420>, <pygame.mixer.Sound object at 0x7f5479d70bd0>, <pygame.mixer.Sound object at 0x7f5479d736f0>, <pygame.mixer.Sound object at 0x7f5479d72280>, <pygame.mixer.Sound object at 0x7f5479d70b70>, <pygame.mixer.Sound object at 0x7f5479d71770>, <pygame.mixer.Sound object at 0x7f5479d705a0>, <pygame.mixer.Sound object at 0x7f5479d737e0>, <pygame.mixer.Sound object at 0x7f5479d73090>, <pygame.mixer.Sound object at 0x7f5479d73630>, <pygame.mixer.Sound object at 0x7f5479d73f60>, <pygame.mixer.Sound object at 0x7f5479d73210>, <pygame.mixer.Sound object at 0x7f5479d70870>, <pygame.mixer.Sound object at 0x7f5479d736c0>, <pygame.mixer.Sound object at 0x7f5479d71bf0>, <pygame.mixer.Sound object at 0x7f5479d71290>, <pygame.mixer.Sound object at 0x7f5479d706c0>, <pygame.mixer.Sound object at 0x7f5479d70030>, <pygame.mixer.Sound object at 0x7f5479d71980>, <pygame.mixer.Sound object at 0x7f5479d70540>, <pygame.mixer.Sound object at 0x7f5479d72ac0>, <pygame.mixer.Sound object at 0x7f5479d73a50>, <pygame.mixer.Sound object at 0x7f5479d716b0>, <pygame.mixer.Sound object at 0x7f5479d714d0>, <pygame.mixer.Sound object at 0x7f5479d72cd0>, <pygame.mixer.Sound object at 0x7f5479d71740>, <pygame.mixer.Sound object at 0x7f5479d70ff0>, <pygame.mixer.Sound object at 0x7f5479d73750>, <pygame.mixer.Sound object at 0x7f5479d70900>, <pygame.mixer.Sound object at 0x7f5479d70990>, <pygame.mixer.Sound object at 0x7f5479d730c0>, <pygame.mixer.Sound object at 0x7f5479d70e70>, <pygame.mixer.Sound object at 0x7f5479d735a0>, <pygame.mixer.Sound object at 0x7f5479d72100>, <pygame.mixer.Sound object at 0x7f5479d717d0>, <pygame.mixer.Sound object at 0x7f5479d72460>, <pygame.mixer.Sound object at 0x7f5479d70b10>, <pygame.mixer.Sound object at 0x7f5479d71140>, <pygame.mixer.Sound object at 0x7f5479d72940>, <pygame.mixer.Sound object at 0x7f5479d5e790>, <pygame.mixer.Sound object at 0x7f5479d5c780>, <pygame.mixer.Sound object at 0x7f5479d5c6f0>, <pygame.mixer.Sound object at 0x7f5479d5e0a0>, <pygame.mixer.Sound object at 0x7f5479d5e3d0>, <pygame.mixer.Sound object at 0x7f5479d5f300>, <pygame.mixer.Sound object at 0x7f5479d5e9d0>, <pygame.mixer.Sound object at 0x7f5479d5da10>, <pygame.mixer.Sound object at 0x7f5479d5f180>, <pygame.mixer.Sound object at 0x7f5479d5c690>, <pygame.mixer.Sound object at 0x7f5479d5f1b0>, <pygame.mixer.Sound object at 0x7f5479d5f2a0>, <pygame.mixer.Sound object at 0x7f5479d5dd10>, <pygame.mixer.Sound object at 0x7f5479d5d680>, <pygame.mixer.Sound object at 0x7f5479d5e8b0>, <pygame.mixer.Sound object at 0x7f5479d5e280>, <pygame.mixer.Sound object at 0x7f5479d5d590>, <pygame.mixer.Sound object at 0x7f5479d5c2d0>, <pygame.mixer.Sound object at 0x7f5479d5cff0>, <pygame.mixer.Sound object at 0x7f5479d5c3f0>, <pygame.mixer.Sound object at 0x7f5479d5daa0>, <pygame.mixer.Sound object at 0x7f5479d5d260>, <pygame.mixer.Sound object at 0x7f5479d5dc50>, <pygame.mixer.Sound object at 0x7f5479d5e970>, <pygame.mixer.Sound object at 0x7f5479d5d980>]\n",
      "All environment sounds preloaded\n",
      "environment_preloaded_sounds: [<pygame.mixer.Sound object at 0x7f5479d5f120>, <pygame.mixer.Sound object at 0x7f5479d5d560>, <pygame.mixer.Sound object at 0x7f5479d5ce10>, <pygame.mixer.Sound object at 0x7f5479d5c870>, <pygame.mixer.Sound object at 0x7f5479d5c930>, <pygame.mixer.Sound object at 0x7f5479d5da40>, <pygame.mixer.Sound object at 0x7f5479d5e5e0>, <pygame.mixer.Sound object at 0x7f5479d5db90>, <pygame.mixer.Sound object at 0x7f5479d5c9c0>, <pygame.mixer.Sound object at 0x7f5479d5da70>, <pygame.mixer.Sound object at 0x7f5479d5e250>, <pygame.mixer.Sound object at 0x7f5479d5cf30>, <pygame.mixer.Sound object at 0x7f5479d5c5d0>, <pygame.mixer.Sound object at 0x7f5479d5c900>, <pygame.mixer.Sound object at 0x7f5479d5e940>, <pygame.mixer.Sound object at 0x7f5479d5d5f0>, <pygame.mixer.Sound object at 0x7f5479d5d200>, <pygame.mixer.Sound object at 0x7f54983b43f0>, <pygame.mixer.Sound object at 0x7f54983b4b40>, <pygame.mixer.Sound object at 0x7f54983b4a80>, <pygame.mixer.Sound object at 0x7f54983b49c0>, <pygame.mixer.Sound object at 0x7f54983b4b10>, <pygame.mixer.Sound object at 0x7f54983b4ae0>, <pygame.mixer.Sound object at 0x7f54983b48d0>, <pygame.mixer.Sound object at 0x7f5498455170>, <pygame.mixer.Sound object at 0x7f5498456160>, <pygame.mixer.Sound object at 0x7f54984566d0>, <pygame.mixer.Sound object at 0x7f5479d529d0>, <pygame.mixer.Sound object at 0x7f5479d51a70>, <pygame.mixer.Sound object at 0x7f5479d509f0>, <pygame.mixer.Sound object at 0x7f5479d51620>, <pygame.mixer.Sound object at 0x7f5479d528b0>, <pygame.mixer.Sound object at 0x7f5479d53e10>, <pygame.mixer.Sound object at 0x7f5479d52790>, <pygame.mixer.Sound object at 0x7f5479d51500>, <pygame.mixer.Sound object at 0x7f5479d52280>, <pygame.mixer.Sound object at 0x7f5479d52010>, <pygame.mixer.Sound object at 0x7f5479d51170>, <pygame.mixer.Sound object at 0x7f5479d507e0>, <pygame.mixer.Sound object at 0x7f5479d52940>, <pygame.mixer.Sound object at 0x7f5479d518c0>, <pygame.mixer.Sound object at 0x7f5479d509c0>, <pygame.mixer.Sound object at 0x7f5479d53cf0>, <pygame.mixer.Sound object at 0x7f5479d52df0>, <pygame.mixer.Sound object at 0x7f5479d538d0>, <pygame.mixer.Sound object at 0x7f5479d51ad0>, <pygame.mixer.Sound object at 0x7f5479d53b70>, <pygame.mixer.Sound object at 0x7f5479d50060>, <pygame.mixer.Sound object at 0x7f5479d52dc0>, <pygame.mixer.Sound object at 0x7f5479d502a0>, <pygame.mixer.Sound object at 0x7f5479d51740>, <pygame.mixer.Sound object at 0x7f5479d51d70>, <pygame.mixer.Sound object at 0x7f5479d51320>, <pygame.mixer.Sound object at 0x7f5479d53f00>, <pygame.mixer.Sound object at 0x7f5479d53600>, <pygame.mixer.Sound object at 0x7f5479d538a0>, <pygame.mixer.Sound object at 0x7f5479d53210>, <pygame.mixer.Sound object at 0x7f5479d53480>, <pygame.mixer.Sound object at 0x7f5479d513b0>, <pygame.mixer.Sound object at 0x7f5479d50300>, <pygame.mixer.Sound object at 0x7f5479d52640>, <pygame.mixer.Sound object at 0x7f5479d53060>, <pygame.mixer.Sound object at 0x7f5479d51200>, <pygame.mixer.Sound object at 0x7f5479d50b40>, <pygame.mixer.Sound object at 0x7f5479d508a0>, <pygame.mixer.Sound object at 0x7f5479d517d0>, <pygame.mixer.Sound object at 0x7f5479d53180>, <pygame.mixer.Sound object at 0x7f5479d52100>, <pygame.mixer.Sound object at 0x7f5479d52be0>]\n",
      "All human sounds preloaded\n",
      "human_preloaded_sounds: [<pygame.mixer.Sound object at 0x7f547b758d80>, <pygame.mixer.Sound object at 0x7f547b758390>, <pygame.mixer.Sound object at 0x7f547b759da0>, <pygame.mixer.Sound object at 0x7f547b75a4f0>, <pygame.mixer.Sound object at 0x7f547b7589c0>, <pygame.mixer.Sound object at 0x7f547b75b2d0>, <pygame.mixer.Sound object at 0x7f547b759ef0>, <pygame.mixer.Sound object at 0x7f547b758330>, <pygame.mixer.Sound object at 0x7f547b7588a0>, <pygame.mixer.Sound object at 0x7f547b758240>, <pygame.mixer.Sound object at 0x7f547b7582a0>, <pygame.mixer.Sound object at 0x7f547b75a190>, <pygame.mixer.Sound object at 0x7f547b758180>, <pygame.mixer.Sound object at 0x7f547b7582d0>, <pygame.mixer.Sound object at 0x7f547b759e60>, <pygame.mixer.Sound object at 0x7f547b759170>, <pygame.mixer.Sound object at 0x7f5498413540>, <pygame.mixer.Sound object at 0x7f5498413780>, <pygame.mixer.Sound object at 0x7f5498412f10>, <pygame.mixer.Sound object at 0x7f5479d9b630>, <pygame.mixer.Sound object at 0x7f5479d9a220>, <pygame.mixer.Sound object at 0x7f5479d99d70>, <pygame.mixer.Sound object at 0x7f5479d99bf0>, <pygame.mixer.Sound object at 0x7f5479d98810>, <pygame.mixer.Sound object at 0x7f5479d99230>, <pygame.mixer.Sound object at 0x7f5479d99650>, <pygame.mixer.Sound object at 0x7f5479d990e0>, <pygame.mixer.Sound object at 0x7f5479d99170>, <pygame.mixer.Sound object at 0x7f5479d9be40>, <pygame.mixer.Sound object at 0x7f5479d9bf00>, <pygame.mixer.Sound object at 0x7f5479d99560>, <pygame.mixer.Sound object at 0x7f5479d9bf60>, <pygame.mixer.Sound object at 0x7f5479d98a80>, <pygame.mixer.Sound object at 0x7f5479d95f20>, <pygame.mixer.Sound object at 0x7f5479d95f80>, <pygame.mixer.Sound object at 0x7f5479d95350>, <pygame.mixer.Sound object at 0x7f5479d95410>, <pygame.mixer.Sound object at 0x7f5479d94750>, <pygame.mixer.Sound object at 0x7f5479d95c80>, <pygame.mixer.Sound object at 0x7f5479d97a80>, <pygame.mixer.Sound object at 0x7f5479d97a50>, <pygame.mixer.Sound object at 0x7f5479d95290>, <pygame.mixer.Sound object at 0x7f5479d97b40>, <pygame.mixer.Sound object at 0x7f5479d94b40>, <pygame.mixer.Sound object at 0x7f5479d94d80>, <pygame.mixer.Sound object at 0x7f5479d94de0>, <pygame.mixer.Sound object at 0x7f5479d96ac0>, <pygame.mixer.Sound object at 0x7f5479d96a00>, <pygame.mixer.Sound object at 0x7f5479d96820>, <pygame.mixer.Sound object at 0x7f5479d96970>, <pygame.mixer.Sound object at 0x7f5479d955c0>, <pygame.mixer.Sound object at 0x7f5479d95380>, <pygame.mixer.Sound object at 0x7f5479d97b70>, <pygame.mixer.Sound object at 0x7f5479d94f90>, <pygame.mixer.Sound object at 0x7f5479d94d50>, <pygame.mixer.Sound object at 0x7f5479d96550>, <pygame.mixer.Sound object at 0x7f5479d94f00>, <pygame.mixer.Sound object at 0x7f5479d94e70>, <pygame.mixer.Sound object at 0x7f5479d94e10>, <pygame.mixer.Sound object at 0x7f5479d96640>, <pygame.mixer.Sound object at 0x7f5479d97090>, <pygame.mixer.Sound object at 0x7f5479d94cf0>, <pygame.mixer.Sound object at 0x7f5479d94c60>]\n",
      "All swine sounds preloaded\n",
      "swine_preloaded_sounds: [<pygame.mixer.Sound object at 0x7f5479d98600>, <pygame.mixer.Sound object at 0x7f5479d9b9f0>, <pygame.mixer.Sound object at 0x7f5479d97d50>, <pygame.mixer.Sound object at 0x7f5479d94f30>, <pygame.mixer.Sound object at 0x7f5479d97cf0>, <pygame.mixer.Sound object at 0x7f5479d97ab0>, <pygame.mixer.Sound object at 0x7f5479d97c60>, <pygame.mixer.Sound object at 0x7f5479d97bd0>, <pygame.mixer.Sound object at 0x7f5479d95a70>, <pygame.mixer.Sound object at 0x7f5479d959e0>, <pygame.mixer.Sound object at 0x7f5479d957a0>, <pygame.mixer.Sound object at 0x7f5479d97e10>, <pygame.mixer.Sound object at 0x7f5479d95950>, <pygame.mixer.Sound object at 0x7f5479d958c0>, <pygame.mixer.Sound object at 0x7f5479d95860>, <pygame.mixer.Sound object at 0x7f5479d97f00>, <pygame.mixer.Sound object at 0x7f5479d972a0>, <pygame.mixer.Sound object at 0x7f5479d97060>, <pygame.mixer.Sound object at 0x7f5479d971b0>, <pygame.mixer.Sound object at 0x7f5479d97330>, <pygame.mixer.Sound object at 0x7f5479d97180>, <pygame.mixer.Sound object at 0x7f5479d97510>, <pygame.mixer.Sound object at 0x7f5479d974b0>, <pygame.mixer.Sound object at 0x7f5479d97270>, <pygame.mixer.Sound object at 0x7f5479d950b0>, <pygame.mixer.Sound object at 0x7f5479d95020>, <pygame.mixer.Sound object at 0x7f5479d94120>, <pygame.mixer.Sound object at 0x7f5479d95ce0>, <pygame.mixer.Sound object at 0x7f5479d940c0>, <pygame.mixer.Sound object at 0x7f5479d94030>, <pygame.mixer.Sound object at 0x7f5479d95e60>, <pygame.mixer.Sound object at 0x7f5479d95da0>, <pygame.mixer.Sound object at 0x7f5479d94870>, <pygame.mixer.Sound object at 0x7f5479d947e0>, <pygame.mixer.Sound object at 0x7f5479d96220>, <pygame.mixer.Sound object at 0x7f5479d95530>, <pygame.mixer.Sound object at 0x7f5479d95fe0>, <pygame.mixer.Sound object at 0x7f5479d96130>, <pygame.mixer.Sound object at 0x7f5479d96100>, <pygame.mixer.Sound object at 0x7f5479d95620>, <pygame.mixer.Sound object at 0x7f5479d97f90>, <pygame.mixer.Sound object at 0x7f5479d96850>, <pygame.mixer.Sound object at 0x7f5479d96610>, <pygame.mixer.Sound object at 0x7f5479d94240>, <pygame.mixer.Sound object at 0x7f5479d967c0>, <pygame.mixer.Sound object at 0x7f5479d96730>, <pygame.mixer.Sound object at 0x7f5479d966d0>, <pygame.mixer.Sound object at 0x7f5479d94330>, <pygame.mixer.Sound object at 0x7f5479d97ea0>, <pygame.mixer.Sound object at 0x7f5479d97e70>, <pygame.mixer.Sound object at 0x7f5479d97de0>, <pygame.mixer.Sound object at 0x7f5479d94180>, <pygame.mixer.Sound object at 0x7f5479d97d80>, <pygame.mixer.Sound object at 0x7f5479d95110>, <pygame.mixer.Sound object at 0x7f5479d95140>, <pygame.mixer.Sound object at 0x7f5479d951a0>, <pygame.mixer.Sound object at 0x7f5479d95d10>, <pygame.mixer.Sound object at 0x7f5479d95bc0>, <pygame.mixer.Sound object at 0x7f5479d979f0>, <pygame.mixer.Sound object at 0x7f5479d96c10>, <pygame.mixer.Sound object at 0x7f5479d96be0>, <pygame.mixer.Sound object at 0x7f5479d96b80>, <pygame.mixer.Sound object at 0x7f5479d96af0>, <pygame.mixer.Sound object at 0x7f5479d954a0>, <pygame.mixer.Sound object at 0x7f5479d94c00>, <pygame.mixer.Sound object at 0x7f5479d954d0>, <pygame.mixer.Sound object at 0x7f5479d97960>, <pygame.mixer.Sound object at 0x7f5479d978a0>, <pygame.mixer.Sound object at 0x7f5479d96c70>, <pygame.mixer.Sound object at 0x7f5479d97540>, <pygame.mixer.Sound object at 0x7f5479d975d0>, <pygame.mixer.Sound object at 0x7f5479d97ed0>, <pygame.mixer.Sound object at 0x7f5479d96f70>, <pygame.mixer.Sound object at 0x7f5479d96fa0>, <pygame.mixer.Sound object at 0x7f5479d96e50>]\n",
      "All silence sounds preloaded\n",
      "silence_preloaded_sounds: [<pygame.mixer.Sound object at 0x7f5479d98570>, <pygame.mixer.Sound object at 0x7f5479d9b090>, <pygame.mixer.Sound object at 0x7f5479d9b2a0>, <pygame.mixer.Sound object at 0x7f5479d9b390>, <pygame.mixer.Sound object at 0x7f5479d99350>, <pygame.mixer.Sound object at 0x7f5479d99380>, <pygame.mixer.Sound object at 0x7f5479d98ed0>, <pygame.mixer.Sound object at 0x7f5479d98f30>, <pygame.mixer.Sound object at 0x7f5479d442a0>, <pygame.mixer.Sound object at 0x7f5479d967f0>, <pygame.mixer.Sound object at 0x7f5479d97030>, <pygame.mixer.Sound object at 0x7f5479d970f0>]\n"
     ]
    }
   ],
   "source": [
    "# Preload all the sounds\n",
    "tags = ['dog', 'environment', 'human', 'swine', 'silence']\n",
    "\n",
    "for tag in tags:\n",
    "    preloaded_sounds = sound_loader(tag)\n",
    "    globals()[f\"{tag}_preloaded_sounds\"] = preloaded_sounds\n",
    "    print(f\"{tag}_preloaded_sounds: {preloaded_sounds}\")"
   ]
  },
  {
   "cell_type": "markdown",
   "metadata": {},
   "source": [
    "### Generate experimental blocks\n",
    "Each block will be 6 seconds long. (Snippets are 0.5 seconds, so 12 of them are needed for one block.)\n",
    "The snippets are selected randomly from the audio pool. \n",
    "There is also a silence block. That's simply generated as 6 seconds of silence."
   ]
  },
  {
   "cell_type": "code",
   "execution_count": 14,
   "metadata": {},
   "outputs": [],
   "source": [
    "def block_creator(tag, count):\n",
    "    blocks = []\n",
    "    preloaded_sounds = eval(f\"{tag}_preloaded_sounds\")\n",
    "    for i in range(1, count + 1):\n",
    "        blocks.append(random.sample(preloaded_sounds, 12))\n",
    "    return blocks"
   ]
  },
  {
   "cell_type": "code",
   "execution_count": 15,
   "metadata": {},
   "outputs": [
    {
     "name": "stdout",
     "output_type": "stream",
     "text": [
      "dog_blocks: [[<pygame.mixer.Sound object at 0x7f5479d5c690>, <pygame.mixer.Sound object at 0x7f5479d73720>, <pygame.mixer.Sound object at 0x7f5479d71980>, <pygame.mixer.Sound object at 0x7f5479d72940>, <pygame.mixer.Sound object at 0x7f5479d5d980>, <pygame.mixer.Sound object at 0x7f5479d5f180>, <pygame.mixer.Sound object at 0x7f5479d5d260>, <pygame.mixer.Sound object at 0x7f5479d5dd10>, <pygame.mixer.Sound object at 0x7f5479d5e3d0>, <pygame.mixer.Sound object at 0x7f5479d5c3f0>, <pygame.mixer.Sound object at 0x7f5479d73210>, <pygame.mixer.Sound object at 0x7f5479d736c0>], [<pygame.mixer.Sound object at 0x7f5479d706c0>, <pygame.mixer.Sound object at 0x7f5479d73630>, <pygame.mixer.Sound object at 0x7f5479d5f300>, <pygame.mixer.Sound object at 0x7f5479d73420>, <pygame.mixer.Sound object at 0x7f5479d5c2d0>, <pygame.mixer.Sound object at 0x7f5479d73f60>, <pygame.mixer.Sound object at 0x7f5479d73090>, <pygame.mixer.Sound object at 0x7f5479d5c690>, <pygame.mixer.Sound object at 0x7f5479d5e280>, <pygame.mixer.Sound object at 0x7f5479d71740>, <pygame.mixer.Sound object at 0x7f5479d71980>, <pygame.mixer.Sound object at 0x7f5479d71290>], [<pygame.mixer.Sound object at 0x7f5479d71740>, <pygame.mixer.Sound object at 0x7f5479d72cd0>, <pygame.mixer.Sound object at 0x7f5479d73720>, <pygame.mixer.Sound object at 0x7f5479d72ac0>, <pygame.mixer.Sound object at 0x7f5479d5f180>, <pygame.mixer.Sound object at 0x7f5479d70030>, <pygame.mixer.Sound object at 0x7f5479d736c0>, <pygame.mixer.Sound object at 0x7f5479d5dd10>, <pygame.mixer.Sound object at 0x7f5479d73420>, <pygame.mixer.Sound object at 0x7f5479d5e9d0>, <pygame.mixer.Sound object at 0x7f5479d5cff0>, <pygame.mixer.Sound object at 0x7f5479d71980>], [<pygame.mixer.Sound object at 0x7f5479d5dc50>, <pygame.mixer.Sound object at 0x7f5479d5f180>, <pygame.mixer.Sound object at 0x7f5479d72940>, <pygame.mixer.Sound object at 0x7f5479d73720>, <pygame.mixer.Sound object at 0x7f5479d73f60>, <pygame.mixer.Sound object at 0x7f5479d5d680>, <pygame.mixer.Sound object at 0x7f5479d70870>, <pygame.mixer.Sound object at 0x7f5479d737e0>, <pygame.mixer.Sound object at 0x7f5479d72100>, <pygame.mixer.Sound object at 0x7f5479d5cff0>, <pygame.mixer.Sound object at 0x7f5479d72f10>, <pygame.mixer.Sound object at 0x7f5479d736f0>], [<pygame.mixer.Sound object at 0x7f5479d5dd10>, <pygame.mixer.Sound object at 0x7f5479d5c780>, <pygame.mixer.Sound object at 0x7f5479d70b10>, <pygame.mixer.Sound object at 0x7f5479d5d980>, <pygame.mixer.Sound object at 0x7f5479d73f60>, <pygame.mixer.Sound object at 0x7f5479d72ac0>, <pygame.mixer.Sound object at 0x7f5479d5e8b0>, <pygame.mixer.Sound object at 0x7f5479d735a0>, <pygame.mixer.Sound object at 0x7f5479d73090>, <pygame.mixer.Sound object at 0x7f5479d70870>, <pygame.mixer.Sound object at 0x7f5479d72f10>, <pygame.mixer.Sound object at 0x7f5479d5c6f0>], [<pygame.mixer.Sound object at 0x7f5479d5dd10>, <pygame.mixer.Sound object at 0x7f5479d71410>, <pygame.mixer.Sound object at 0x7f5479d73a50>, <pygame.mixer.Sound object at 0x7f5479d5e0a0>, <pygame.mixer.Sound object at 0x7f5479d5d980>, <pygame.mixer.Sound object at 0x7f5479d73420>, <pygame.mixer.Sound object at 0x7f5479d5c2d0>, <pygame.mixer.Sound object at 0x7f5479d72940>, <pygame.mixer.Sound object at 0x7f5479d5e280>, <pygame.mixer.Sound object at 0x7f5479d70030>, <pygame.mixer.Sound object at 0x7f5479d72460>, <pygame.mixer.Sound object at 0x7f5479d706c0>], [<pygame.mixer.Sound object at 0x7f5479d73210>, <pygame.mixer.Sound object at 0x7f5479d717d0>, <pygame.mixer.Sound object at 0x7f5479d5d260>, <pygame.mixer.Sound object at 0x7f5479d72460>, <pygame.mixer.Sound object at 0x7f5479d5c690>, <pygame.mixer.Sound object at 0x7f5479d706c0>, <pygame.mixer.Sound object at 0x7f5479d73a50>, <pygame.mixer.Sound object at 0x7f5479d5c780>, <pygame.mixer.Sound object at 0x7f5479d71bf0>, <pygame.mixer.Sound object at 0x7f5479d70e70>, <pygame.mixer.Sound object at 0x7f5479d70b70>, <pygame.mixer.Sound object at 0x7f5479d73090>], [<pygame.mixer.Sound object at 0x7f5479d5f1b0>, <pygame.mixer.Sound object at 0x7f5479d5f300>, <pygame.mixer.Sound object at 0x7f5479d71980>, <pygame.mixer.Sound object at 0x7f5479d717d0>, <pygame.mixer.Sound object at 0x7f5479d5f180>, <pygame.mixer.Sound object at 0x7f5479d70e70>, <pygame.mixer.Sound object at 0x7f5479d5d980>, <pygame.mixer.Sound object at 0x7f5479d71410>, <pygame.mixer.Sound object at 0x7f5479d71290>, <pygame.mixer.Sound object at 0x7f5479d71bf0>, <pygame.mixer.Sound object at 0x7f5479d73630>, <pygame.mixer.Sound object at 0x7f5479d714d0>], [<pygame.mixer.Sound object at 0x7f5479d71140>, <pygame.mixer.Sound object at 0x7f5479d5d590>, <pygame.mixer.Sound object at 0x7f5479d5d680>, <pygame.mixer.Sound object at 0x7f5479d5dc50>, <pygame.mixer.Sound object at 0x7f5479d714d0>, <pygame.mixer.Sound object at 0x7f5479d70900>, <pygame.mixer.Sound object at 0x7f5479d70ff0>, <pygame.mixer.Sound object at 0x7f5479d5da10>, <pygame.mixer.Sound object at 0x7f5479d5e8b0>, <pygame.mixer.Sound object at 0x7f5479d5c2d0>, <pygame.mixer.Sound object at 0x7f5479d5e3d0>, <pygame.mixer.Sound object at 0x7f5479d705a0>], [<pygame.mixer.Sound object at 0x7f5479d705a0>, <pygame.mixer.Sound object at 0x7f5479d735a0>, <pygame.mixer.Sound object at 0x7f5479d5dc50>, <pygame.mixer.Sound object at 0x7f5479d72940>, <pygame.mixer.Sound object at 0x7f5479d737e0>, <pygame.mixer.Sound object at 0x7f5479d5c690>, <pygame.mixer.Sound object at 0x7f5479d5c2d0>, <pygame.mixer.Sound object at 0x7f5479d5f300>, <pygame.mixer.Sound object at 0x7f5479d73210>, <pygame.mixer.Sound object at 0x7f5479d5e790>, <pygame.mixer.Sound object at 0x7f5479d71290>, <pygame.mixer.Sound object at 0x7f5479d73f60>], [<pygame.mixer.Sound object at 0x7f5479d73a50>, <pygame.mixer.Sound object at 0x7f5479d71bf0>, <pygame.mixer.Sound object at 0x7f5479d73720>, <pygame.mixer.Sound object at 0x7f5479d70bd0>, <pygame.mixer.Sound object at 0x7f5479d73750>, <pygame.mixer.Sound object at 0x7f5479d5c3f0>, <pygame.mixer.Sound object at 0x7f5479d70ff0>, <pygame.mixer.Sound object at 0x7f5479d72460>, <pygame.mixer.Sound object at 0x7f5479d5f2a0>, <pygame.mixer.Sound object at 0x7f5479d5e9d0>, <pygame.mixer.Sound object at 0x7f5479d73420>, <pygame.mixer.Sound object at 0x7f5479d71740>], [<pygame.mixer.Sound object at 0x7f5479d5f1b0>, <pygame.mixer.Sound object at 0x7f5479d72ac0>, <pygame.mixer.Sound object at 0x7f5479d5e9d0>, <pygame.mixer.Sound object at 0x7f5479d5daa0>, <pygame.mixer.Sound object at 0x7f5479d5f180>, <pygame.mixer.Sound object at 0x7f5479d73210>, <pygame.mixer.Sound object at 0x7f5479d71770>, <pygame.mixer.Sound object at 0x7f5479d71140>, <pygame.mixer.Sound object at 0x7f5479d5c780>, <pygame.mixer.Sound object at 0x7f5479d71410>, <pygame.mixer.Sound object at 0x7f5479d5e8b0>, <pygame.mixer.Sound object at 0x7f5479d5f300>]]\n",
      "environment_blocks: [[<pygame.mixer.Sound object at 0x7f5479d5c900>, <pygame.mixer.Sound object at 0x7f5479d53600>, <pygame.mixer.Sound object at 0x7f5479d51a70>, <pygame.mixer.Sound object at 0x7f54983b4ae0>, <pygame.mixer.Sound object at 0x7f5479d50300>, <pygame.mixer.Sound object at 0x7f5479d5e5e0>, <pygame.mixer.Sound object at 0x7f5479d52280>, <pygame.mixer.Sound object at 0x7f5479d5d5f0>, <pygame.mixer.Sound object at 0x7f5479d513b0>, <pygame.mixer.Sound object at 0x7f5479d52100>, <pygame.mixer.Sound object at 0x7f5479d5db90>, <pygame.mixer.Sound object at 0x7f5479d509f0>], [<pygame.mixer.Sound object at 0x7f54983b43f0>, <pygame.mixer.Sound object at 0x7f5479d50300>, <pygame.mixer.Sound object at 0x7f5479d518c0>, <pygame.mixer.Sound object at 0x7f5479d53210>, <pygame.mixer.Sound object at 0x7f5479d508a0>, <pygame.mixer.Sound object at 0x7f5479d53600>, <pygame.mixer.Sound object at 0x7f5479d53f00>, <pygame.mixer.Sound object at 0x7f5479d513b0>, <pygame.mixer.Sound object at 0x7f5479d52280>, <pygame.mixer.Sound object at 0x7f5479d51a70>, <pygame.mixer.Sound object at 0x7f5479d53480>, <pygame.mixer.Sound object at 0x7f5479d5e250>], [<pygame.mixer.Sound object at 0x7f5479d52640>, <pygame.mixer.Sound object at 0x7f5479d53480>, <pygame.mixer.Sound object at 0x7f5479d52790>, <pygame.mixer.Sound object at 0x7f5479d528b0>, <pygame.mixer.Sound object at 0x7f5479d52280>, <pygame.mixer.Sound object at 0x7f5479d51200>, <pygame.mixer.Sound object at 0x7f5479d518c0>, <pygame.mixer.Sound object at 0x7f5479d5d5f0>, <pygame.mixer.Sound object at 0x7f54983b43f0>, <pygame.mixer.Sound object at 0x7f5479d51a70>, <pygame.mixer.Sound object at 0x7f5479d5c930>, <pygame.mixer.Sound object at 0x7f5479d51ad0>], [<pygame.mixer.Sound object at 0x7f5479d52010>, <pygame.mixer.Sound object at 0x7f5479d51620>, <pygame.mixer.Sound object at 0x7f5479d51500>, <pygame.mixer.Sound object at 0x7f5479d53cf0>, <pygame.mixer.Sound object at 0x7f5479d518c0>, <pygame.mixer.Sound object at 0x7f5479d5e250>, <pygame.mixer.Sound object at 0x7f5479d5c9c0>, <pygame.mixer.Sound object at 0x7f5479d5da70>, <pygame.mixer.Sound object at 0x7f5479d5e940>, <pygame.mixer.Sound object at 0x7f5498455170>, <pygame.mixer.Sound object at 0x7f5479d538d0>, <pygame.mixer.Sound object at 0x7f5479d53060>], [<pygame.mixer.Sound object at 0x7f5479d529d0>, <pygame.mixer.Sound object at 0x7f5479d5c9c0>, <pygame.mixer.Sound object at 0x7f5479d53f00>, <pygame.mixer.Sound object at 0x7f5479d51320>, <pygame.mixer.Sound object at 0x7f5479d53cf0>, <pygame.mixer.Sound object at 0x7f5479d50300>, <pygame.mixer.Sound object at 0x7f54984566d0>, <pygame.mixer.Sound object at 0x7f5479d5c870>, <pygame.mixer.Sound object at 0x7f5479d5c900>, <pygame.mixer.Sound object at 0x7f5479d53180>, <pygame.mixer.Sound object at 0x7f5479d51200>, <pygame.mixer.Sound object at 0x7f5498455170>], [<pygame.mixer.Sound object at 0x7f5479d5ce10>, <pygame.mixer.Sound object at 0x7f5479d52dc0>, <pygame.mixer.Sound object at 0x7f5479d53060>, <pygame.mixer.Sound object at 0x7f5479d5f120>, <pygame.mixer.Sound object at 0x7f5479d51ad0>, <pygame.mixer.Sound object at 0x7f5479d507e0>, <pygame.mixer.Sound object at 0x7f5479d52100>, <pygame.mixer.Sound object at 0x7f5498455170>, <pygame.mixer.Sound object at 0x7f5479d53600>, <pygame.mixer.Sound object at 0x7f5479d53480>, <pygame.mixer.Sound object at 0x7f5479d53f00>, <pygame.mixer.Sound object at 0x7f54984566d0>], [<pygame.mixer.Sound object at 0x7f5479d52be0>, <pygame.mixer.Sound object at 0x7f5479d51a70>, <pygame.mixer.Sound object at 0x7f5479d51200>, <pygame.mixer.Sound object at 0x7f5479d52100>, <pygame.mixer.Sound object at 0x7f5479d51500>, <pygame.mixer.Sound object at 0x7f5479d538a0>, <pygame.mixer.Sound object at 0x7f5479d528b0>, <pygame.mixer.Sound object at 0x7f5479d5d560>, <pygame.mixer.Sound object at 0x7f5498455170>, <pygame.mixer.Sound object at 0x7f54983b4b10>, <pygame.mixer.Sound object at 0x7f5479d53cf0>, <pygame.mixer.Sound object at 0x7f5479d52df0>], [<pygame.mixer.Sound object at 0x7f5479d51d70>, <pygame.mixer.Sound object at 0x7f54983b4b10>, <pygame.mixer.Sound object at 0x7f5479d50300>, <pygame.mixer.Sound object at 0x7f5479d5d200>, <pygame.mixer.Sound object at 0x7f5479d5c870>, <pygame.mixer.Sound object at 0x7f5479d51740>, <pygame.mixer.Sound object at 0x7f5479d51170>, <pygame.mixer.Sound object at 0x7f5479d52010>, <pygame.mixer.Sound object at 0x7f5479d53cf0>, <pygame.mixer.Sound object at 0x7f5479d5d560>, <pygame.mixer.Sound object at 0x7f5479d5da40>, <pygame.mixer.Sound object at 0x7f5479d509c0>], [<pygame.mixer.Sound object at 0x7f5479d53600>, <pygame.mixer.Sound object at 0x7f54983b43f0>, <pygame.mixer.Sound object at 0x7f5479d50300>, <pygame.mixer.Sound object at 0x7f54983b48d0>, <pygame.mixer.Sound object at 0x7f5479d5e5e0>, <pygame.mixer.Sound object at 0x7f5479d52790>, <pygame.mixer.Sound object at 0x7f5498455170>, <pygame.mixer.Sound object at 0x7f54983b49c0>, <pygame.mixer.Sound object at 0x7f5479d5c900>, <pygame.mixer.Sound object at 0x7f5479d509f0>, <pygame.mixer.Sound object at 0x7f5479d53060>, <pygame.mixer.Sound object at 0x7f54983b4b10>], [<pygame.mixer.Sound object at 0x7f5479d52dc0>, <pygame.mixer.Sound object at 0x7f5479d52280>, <pygame.mixer.Sound object at 0x7f5479d53f00>, <pygame.mixer.Sound object at 0x7f5479d53e10>, <pygame.mixer.Sound object at 0x7f5479d5e250>, <pygame.mixer.Sound object at 0x7f5479d52640>, <pygame.mixer.Sound object at 0x7f5479d5d560>, <pygame.mixer.Sound object at 0x7f5479d50060>, <pygame.mixer.Sound object at 0x7f5479d51500>, <pygame.mixer.Sound object at 0x7f5479d5c870>, <pygame.mixer.Sound object at 0x7f54983b4ae0>, <pygame.mixer.Sound object at 0x7f5479d5e940>], [<pygame.mixer.Sound object at 0x7f5479d5c9c0>, <pygame.mixer.Sound object at 0x7f5479d5da40>, <pygame.mixer.Sound object at 0x7f5479d5c870>, <pygame.mixer.Sound object at 0x7f5479d528b0>, <pygame.mixer.Sound object at 0x7f5498456160>, <pygame.mixer.Sound object at 0x7f5479d5ce10>, <pygame.mixer.Sound object at 0x7f5479d52940>, <pygame.mixer.Sound object at 0x7f5479d5da70>, <pygame.mixer.Sound object at 0x7f5479d5d5f0>, <pygame.mixer.Sound object at 0x7f5479d52be0>, <pygame.mixer.Sound object at 0x7f5479d51620>, <pygame.mixer.Sound object at 0x7f5479d53cf0>], [<pygame.mixer.Sound object at 0x7f5479d5e940>, <pygame.mixer.Sound object at 0x7f5479d529d0>, <pygame.mixer.Sound object at 0x7f5479d50300>, <pygame.mixer.Sound object at 0x7f5479d53e10>, <pygame.mixer.Sound object at 0x7f5479d50060>, <pygame.mixer.Sound object at 0x7f54983b4b10>, <pygame.mixer.Sound object at 0x7f5479d507e0>, <pygame.mixer.Sound object at 0x7f5479d51200>, <pygame.mixer.Sound object at 0x7f5479d508a0>, <pygame.mixer.Sound object at 0x7f5479d51ad0>, <pygame.mixer.Sound object at 0x7f5479d5db90>, <pygame.mixer.Sound object at 0x7f5479d502a0>]]\n",
      "human_blocks: [[<pygame.mixer.Sound object at 0x7f5479d97b70>, <pygame.mixer.Sound object at 0x7f547b7582a0>, <pygame.mixer.Sound object at 0x7f5479d9b630>, <pygame.mixer.Sound object at 0x7f547b759ef0>, <pygame.mixer.Sound object at 0x7f5479d94750>, <pygame.mixer.Sound object at 0x7f547b758390>, <pygame.mixer.Sound object at 0x7f5479d97090>, <pygame.mixer.Sound object at 0x7f5479d95410>, <pygame.mixer.Sound object at 0x7f5479d94b40>, <pygame.mixer.Sound object at 0x7f5479d99230>, <pygame.mixer.Sound object at 0x7f5479d99650>, <pygame.mixer.Sound object at 0x7f5479d94de0>], [<pygame.mixer.Sound object at 0x7f547b758180>, <pygame.mixer.Sound object at 0x7f547b7589c0>, <pygame.mixer.Sound object at 0x7f5479d94750>, <pygame.mixer.Sound object at 0x7f5479d94d80>, <pygame.mixer.Sound object at 0x7f5479d94f90>, <pygame.mixer.Sound object at 0x7f5479d97a50>, <pygame.mixer.Sound object at 0x7f547b759170>, <pygame.mixer.Sound object at 0x7f547b759ef0>, <pygame.mixer.Sound object at 0x7f5479d96640>, <pygame.mixer.Sound object at 0x7f5479d96970>, <pygame.mixer.Sound object at 0x7f5479d9b630>, <pygame.mixer.Sound object at 0x7f5479d94b40>], [<pygame.mixer.Sound object at 0x7f5479d95c80>, <pygame.mixer.Sound object at 0x7f5479d95380>, <pygame.mixer.Sound object at 0x7f547b758330>, <pygame.mixer.Sound object at 0x7f5479d955c0>, <pygame.mixer.Sound object at 0x7f5479d95410>, <pygame.mixer.Sound object at 0x7f5479d96640>, <pygame.mixer.Sound object at 0x7f547b759da0>, <pygame.mixer.Sound object at 0x7f5479d99bf0>, <pygame.mixer.Sound object at 0x7f5479d95f80>, <pygame.mixer.Sound object at 0x7f5479d99170>, <pygame.mixer.Sound object at 0x7f5479d97b40>, <pygame.mixer.Sound object at 0x7f5479d98810>], [<pygame.mixer.Sound object at 0x7f547b7589c0>, <pygame.mixer.Sound object at 0x7f5479d98a80>, <pygame.mixer.Sound object at 0x7f5479d95290>, <pygame.mixer.Sound object at 0x7f5479d99d70>, <pygame.mixer.Sound object at 0x7f547b758d80>, <pygame.mixer.Sound object at 0x7f5479d94d50>, <pygame.mixer.Sound object at 0x7f5479d990e0>, <pygame.mixer.Sound object at 0x7f5479d97b70>, <pygame.mixer.Sound object at 0x7f5479d9bf60>, <pygame.mixer.Sound object at 0x7f547b759ef0>, <pygame.mixer.Sound object at 0x7f5479d99170>, <pygame.mixer.Sound object at 0x7f5479d98810>], [<pygame.mixer.Sound object at 0x7f5479d97a50>, <pygame.mixer.Sound object at 0x7f5479d94e70>, <pygame.mixer.Sound object at 0x7f5479d94f90>, <pygame.mixer.Sound object at 0x7f5479d9bf00>, <pygame.mixer.Sound object at 0x7f5479d94de0>, <pygame.mixer.Sound object at 0x7f547b758240>, <pygame.mixer.Sound object at 0x7f5479d99170>, <pygame.mixer.Sound object at 0x7f547b75a190>, <pygame.mixer.Sound object at 0x7f5479d96ac0>, <pygame.mixer.Sound object at 0x7f5479d95f20>, <pygame.mixer.Sound object at 0x7f5479d95290>, <pygame.mixer.Sound object at 0x7f5498413780>], [<pygame.mixer.Sound object at 0x7f5479d97a80>, <pygame.mixer.Sound object at 0x7f5479d95380>, <pygame.mixer.Sound object at 0x7f5479d94e10>, <pygame.mixer.Sound object at 0x7f5479d95f80>, <pygame.mixer.Sound object at 0x7f5479d96970>, <pygame.mixer.Sound object at 0x7f5479d99560>, <pygame.mixer.Sound object at 0x7f5479d9bf00>, <pygame.mixer.Sound object at 0x7f5479d99170>, <pygame.mixer.Sound object at 0x7f5479d97b70>, <pygame.mixer.Sound object at 0x7f5479d96ac0>, <pygame.mixer.Sound object at 0x7f5479d94750>, <pygame.mixer.Sound object at 0x7f5498413780>], [<pygame.mixer.Sound object at 0x7f5479d9a220>, <pygame.mixer.Sound object at 0x7f5479d94d50>, <pygame.mixer.Sound object at 0x7f547b759170>, <pygame.mixer.Sound object at 0x7f5479d94f90>, <pygame.mixer.Sound object at 0x7f547b75b2d0>, <pygame.mixer.Sound object at 0x7f5498413780>, <pygame.mixer.Sound object at 0x7f5479d94f00>, <pygame.mixer.Sound object at 0x7f5479d9be40>, <pygame.mixer.Sound object at 0x7f5479d97090>, <pygame.mixer.Sound object at 0x7f5479d96820>, <pygame.mixer.Sound object at 0x7f5479d9bf00>, <pygame.mixer.Sound object at 0x7f5479d95410>], [<pygame.mixer.Sound object at 0x7f5479d97a80>, <pygame.mixer.Sound object at 0x7f5479d97b40>, <pygame.mixer.Sound object at 0x7f5479d99230>, <pygame.mixer.Sound object at 0x7f5479d99d70>, <pygame.mixer.Sound object at 0x7f547b758390>, <pygame.mixer.Sound object at 0x7f5479d9bf60>, <pygame.mixer.Sound object at 0x7f5479d94d50>, <pygame.mixer.Sound object at 0x7f5479d9a220>, <pygame.mixer.Sound object at 0x7f547b75a190>, <pygame.mixer.Sound object at 0x7f5479d94e70>, <pygame.mixer.Sound object at 0x7f547b7582d0>, <pygame.mixer.Sound object at 0x7f5479d99bf0>], [<pygame.mixer.Sound object at 0x7f5479d95380>, <pygame.mixer.Sound object at 0x7f5498413540>, <pygame.mixer.Sound object at 0x7f5479d99d70>, <pygame.mixer.Sound object at 0x7f5498413780>, <pygame.mixer.Sound object at 0x7f5479d94f00>, <pygame.mixer.Sound object at 0x7f5479d95c80>, <pygame.mixer.Sound object at 0x7f5479d94d80>, <pygame.mixer.Sound object at 0x7f5479d96640>, <pygame.mixer.Sound object at 0x7f5479d95350>, <pygame.mixer.Sound object at 0x7f547b758d80>, <pygame.mixer.Sound object at 0x7f5479d95f20>, <pygame.mixer.Sound object at 0x7f547b758180>], [<pygame.mixer.Sound object at 0x7f547b75b2d0>, <pygame.mixer.Sound object at 0x7f547b759170>, <pygame.mixer.Sound object at 0x7f5479d96ac0>, <pygame.mixer.Sound object at 0x7f5479d990e0>, <pygame.mixer.Sound object at 0x7f5479d9bf60>, <pygame.mixer.Sound object at 0x7f5479d95350>, <pygame.mixer.Sound object at 0x7f5479d96820>, <pygame.mixer.Sound object at 0x7f5479d94cf0>, <pygame.mixer.Sound object at 0x7f5479d94d80>, <pygame.mixer.Sound object at 0x7f5479d99560>, <pygame.mixer.Sound object at 0x7f5479d95290>, <pygame.mixer.Sound object at 0x7f5479d94de0>], [<pygame.mixer.Sound object at 0x7f5479d9bf60>, <pygame.mixer.Sound object at 0x7f5479d9be40>, <pygame.mixer.Sound object at 0x7f5479d955c0>, <pygame.mixer.Sound object at 0x7f547b758390>, <pygame.mixer.Sound object at 0x7f547b75b2d0>, <pygame.mixer.Sound object at 0x7f5498412f10>, <pygame.mixer.Sound object at 0x7f547b759e60>, <pygame.mixer.Sound object at 0x7f5479d99650>, <pygame.mixer.Sound object at 0x7f5479d94d80>, <pygame.mixer.Sound object at 0x7f547b759170>, <pygame.mixer.Sound object at 0x7f5479d9b630>, <pygame.mixer.Sound object at 0x7f5479d97b40>], [<pygame.mixer.Sound object at 0x7f5479d94750>, <pygame.mixer.Sound object at 0x7f5479d98810>, <pygame.mixer.Sound object at 0x7f5479d99560>, <pygame.mixer.Sound object at 0x7f5479d95350>, <pygame.mixer.Sound object at 0x7f5479d95f20>, <pygame.mixer.Sound object at 0x7f5479d99bf0>, <pygame.mixer.Sound object at 0x7f5479d99170>, <pygame.mixer.Sound object at 0x7f5479d96a00>, <pygame.mixer.Sound object at 0x7f5479d96640>, <pygame.mixer.Sound object at 0x7f5479d99d70>, <pygame.mixer.Sound object at 0x7f5479d94e70>, <pygame.mixer.Sound object at 0x7f5479d94d80>]]\n",
      "swine_blocks: [[<pygame.mixer.Sound object at 0x7f5479d979f0>, <pygame.mixer.Sound object at 0x7f5479d96220>, <pygame.mixer.Sound object at 0x7f5479d95620>, <pygame.mixer.Sound object at 0x7f5479d94870>, <pygame.mixer.Sound object at 0x7f5479d94030>, <pygame.mixer.Sound object at 0x7f5479d97f00>, <pygame.mixer.Sound object at 0x7f5479d950b0>, <pygame.mixer.Sound object at 0x7f5479d97f90>, <pygame.mixer.Sound object at 0x7f5479d97540>, <pygame.mixer.Sound object at 0x7f5479d97270>, <pygame.mixer.Sound object at 0x7f5479d96c70>, <pygame.mixer.Sound object at 0x7f5479d95ce0>], [<pygame.mixer.Sound object at 0x7f5479d96b80>, <pygame.mixer.Sound object at 0x7f5479d95530>, <pygame.mixer.Sound object at 0x7f5479d978a0>, <pygame.mixer.Sound object at 0x7f5479d95fe0>, <pygame.mixer.Sound object at 0x7f5479d95950>, <pygame.mixer.Sound object at 0x7f5479d950b0>, <pygame.mixer.Sound object at 0x7f5479d96130>, <pygame.mixer.Sound object at 0x7f5479d94030>, <pygame.mixer.Sound object at 0x7f5479d966d0>, <pygame.mixer.Sound object at 0x7f5479d974b0>, <pygame.mixer.Sound object at 0x7f5479d96100>, <pygame.mixer.Sound object at 0x7f5479d9b9f0>], [<pygame.mixer.Sound object at 0x7f5479d96c70>, <pygame.mixer.Sound object at 0x7f5479d972a0>, <pygame.mixer.Sound object at 0x7f5479d95530>, <pygame.mixer.Sound object at 0x7f5479d97ab0>, <pygame.mixer.Sound object at 0x7f5479d97c60>, <pygame.mixer.Sound object at 0x7f5479d96130>, <pygame.mixer.Sound object at 0x7f5479d96fa0>, <pygame.mixer.Sound object at 0x7f5479d96af0>, <pygame.mixer.Sound object at 0x7f5479d958c0>, <pygame.mixer.Sound object at 0x7f5479d9b9f0>, <pygame.mixer.Sound object at 0x7f5479d95fe0>, <pygame.mixer.Sound object at 0x7f5479d96be0>], [<pygame.mixer.Sound object at 0x7f5479d96b80>, <pygame.mixer.Sound object at 0x7f5479d95d10>, <pygame.mixer.Sound object at 0x7f5479d94240>, <pygame.mixer.Sound object at 0x7f5479d97270>, <pygame.mixer.Sound object at 0x7f5479d97c60>, <pygame.mixer.Sound object at 0x7f5479d94870>, <pygame.mixer.Sound object at 0x7f5479d96e50>, <pygame.mixer.Sound object at 0x7f5479d95860>, <pygame.mixer.Sound object at 0x7f5479d95a70>, <pygame.mixer.Sound object at 0x7f5479d94180>, <pygame.mixer.Sound object at 0x7f5479d96af0>, <pygame.mixer.Sound object at 0x7f5479d959e0>], [<pygame.mixer.Sound object at 0x7f5479d96fa0>, <pygame.mixer.Sound object at 0x7f5479d97c60>, <pygame.mixer.Sound object at 0x7f5479d97330>, <pygame.mixer.Sound object at 0x7f5479d96f70>, <pygame.mixer.Sound object at 0x7f5479d96100>, <pygame.mixer.Sound object at 0x7f5479d957a0>, <pygame.mixer.Sound object at 0x7f5479d95da0>, <pygame.mixer.Sound object at 0x7f5479d97f00>, <pygame.mixer.Sound object at 0x7f5479d95110>, <pygame.mixer.Sound object at 0x7f5479d940c0>, <pygame.mixer.Sound object at 0x7f5479d97ea0>, <pygame.mixer.Sound object at 0x7f5479d95bc0>], [<pygame.mixer.Sound object at 0x7f5479d95d10>, <pygame.mixer.Sound object at 0x7f5479d96100>, <pygame.mixer.Sound object at 0x7f5479d95140>, <pygame.mixer.Sound object at 0x7f5479d95620>, <pygame.mixer.Sound object at 0x7f5479d97bd0>, <pygame.mixer.Sound object at 0x7f5479d95950>, <pygame.mixer.Sound object at 0x7f5479d94120>, <pygame.mixer.Sound object at 0x7f5479d95ce0>, <pygame.mixer.Sound object at 0x7f5479d947e0>, <pygame.mixer.Sound object at 0x7f5479d957a0>, <pygame.mixer.Sound object at 0x7f5479d97180>, <pygame.mixer.Sound object at 0x7f5479d95e60>], [<pygame.mixer.Sound object at 0x7f5479d974b0>, <pygame.mixer.Sound object at 0x7f5479d975d0>, <pygame.mixer.Sound object at 0x7f5479d959e0>, <pygame.mixer.Sound object at 0x7f5479d97180>, <pygame.mixer.Sound object at 0x7f5479d98600>, <pygame.mixer.Sound object at 0x7f5479d97d80>, <pygame.mixer.Sound object at 0x7f5479d95bc0>, <pygame.mixer.Sound object at 0x7f5479d96be0>, <pygame.mixer.Sound object at 0x7f5479d96130>, <pygame.mixer.Sound object at 0x7f5479d97cf0>, <pygame.mixer.Sound object at 0x7f5479d94030>, <pygame.mixer.Sound object at 0x7f5479d95fe0>], [<pygame.mixer.Sound object at 0x7f5479d95fe0>, <pygame.mixer.Sound object at 0x7f5479d979f0>, <pygame.mixer.Sound object at 0x7f5479d959e0>, <pygame.mixer.Sound object at 0x7f5479d94030>, <pygame.mixer.Sound object at 0x7f5479d947e0>, <pygame.mixer.Sound object at 0x7f5479d95020>, <pygame.mixer.Sound object at 0x7f5479d95140>, <pygame.mixer.Sound object at 0x7f5479d95860>, <pygame.mixer.Sound object at 0x7f5479d940c0>, <pygame.mixer.Sound object at 0x7f5479d97330>, <pygame.mixer.Sound object at 0x7f5479d96220>, <pygame.mixer.Sound object at 0x7f5479d971b0>], [<pygame.mixer.Sound object at 0x7f5479d959e0>, <pygame.mixer.Sound object at 0x7f5479d97bd0>, <pygame.mixer.Sound object at 0x7f5479d97510>, <pygame.mixer.Sound object at 0x7f5479d95620>, <pygame.mixer.Sound object at 0x7f5479d95fe0>, <pygame.mixer.Sound object at 0x7f5479d95d10>, <pygame.mixer.Sound object at 0x7f5479d97f00>, <pygame.mixer.Sound object at 0x7f5479d96c10>, <pygame.mixer.Sound object at 0x7f5479d96100>, <pygame.mixer.Sound object at 0x7f5479d94180>, <pygame.mixer.Sound object at 0x7f5479d96220>, <pygame.mixer.Sound object at 0x7f5479d954a0>], [<pygame.mixer.Sound object at 0x7f5479d95d10>, <pygame.mixer.Sound object at 0x7f5479d957a0>, <pygame.mixer.Sound object at 0x7f5479d97ab0>, <pygame.mixer.Sound object at 0x7f5479d951a0>, <pygame.mixer.Sound object at 0x7f5479d96850>, <pygame.mixer.Sound object at 0x7f5479d94870>, <pygame.mixer.Sound object at 0x7f5479d94f30>, <pygame.mixer.Sound object at 0x7f5479d97e10>, <pygame.mixer.Sound object at 0x7f5479d94030>, <pygame.mixer.Sound object at 0x7f5479d97d50>, <pygame.mixer.Sound object at 0x7f5479d96220>, <pygame.mixer.Sound object at 0x7f5479d96f70>], [<pygame.mixer.Sound object at 0x7f5479d974b0>, <pygame.mixer.Sound object at 0x7f5479d96be0>, <pygame.mixer.Sound object at 0x7f5479d97960>, <pygame.mixer.Sound object at 0x7f5479d95d10>, <pygame.mixer.Sound object at 0x7f5479d95530>, <pygame.mixer.Sound object at 0x7f5479d97270>, <pygame.mixer.Sound object at 0x7f5479d951a0>, <pygame.mixer.Sound object at 0x7f5479d96af0>, <pygame.mixer.Sound object at 0x7f5479d97e10>, <pygame.mixer.Sound object at 0x7f5479d96fa0>, <pygame.mixer.Sound object at 0x7f5479d967c0>, <pygame.mixer.Sound object at 0x7f5479d97d80>], [<pygame.mixer.Sound object at 0x7f5479d96610>, <pygame.mixer.Sound object at 0x7f5479d96850>, <pygame.mixer.Sound object at 0x7f5479d958c0>, <pygame.mixer.Sound object at 0x7f5479d97180>, <pygame.mixer.Sound object at 0x7f5479d96e50>, <pygame.mixer.Sound object at 0x7f5479d97d80>, <pygame.mixer.Sound object at 0x7f5479d954a0>, <pygame.mixer.Sound object at 0x7f5479d95fe0>, <pygame.mixer.Sound object at 0x7f5479d94180>, <pygame.mixer.Sound object at 0x7f5479d97cf0>, <pygame.mixer.Sound object at 0x7f5479d979f0>, <pygame.mixer.Sound object at 0x7f5479d97e10>]]\n",
      "silence_blocks: [[<pygame.mixer.Sound object at 0x7f5479d99380>, <pygame.mixer.Sound object at 0x7f5479d99350>, <pygame.mixer.Sound object at 0x7f5479d970f0>, <pygame.mixer.Sound object at 0x7f5479d9b090>, <pygame.mixer.Sound object at 0x7f5479d98ed0>, <pygame.mixer.Sound object at 0x7f5479d98f30>, <pygame.mixer.Sound object at 0x7f5479d97030>, <pygame.mixer.Sound object at 0x7f5479d98570>, <pygame.mixer.Sound object at 0x7f5479d9b390>, <pygame.mixer.Sound object at 0x7f5479d442a0>, <pygame.mixer.Sound object at 0x7f5479d967f0>, <pygame.mixer.Sound object at 0x7f5479d9b2a0>], [<pygame.mixer.Sound object at 0x7f5479d442a0>, <pygame.mixer.Sound object at 0x7f5479d99380>, <pygame.mixer.Sound object at 0x7f5479d967f0>, <pygame.mixer.Sound object at 0x7f5479d98f30>, <pygame.mixer.Sound object at 0x7f5479d970f0>, <pygame.mixer.Sound object at 0x7f5479d98ed0>, <pygame.mixer.Sound object at 0x7f5479d98570>, <pygame.mixer.Sound object at 0x7f5479d9b090>, <pygame.mixer.Sound object at 0x7f5479d9b2a0>, <pygame.mixer.Sound object at 0x7f5479d9b390>, <pygame.mixer.Sound object at 0x7f5479d97030>, <pygame.mixer.Sound object at 0x7f5479d99350>], [<pygame.mixer.Sound object at 0x7f5479d98f30>, <pygame.mixer.Sound object at 0x7f5479d970f0>, <pygame.mixer.Sound object at 0x7f5479d9b090>, <pygame.mixer.Sound object at 0x7f5479d98570>, <pygame.mixer.Sound object at 0x7f5479d9b390>, <pygame.mixer.Sound object at 0x7f5479d99380>, <pygame.mixer.Sound object at 0x7f5479d967f0>, <pygame.mixer.Sound object at 0x7f5479d9b2a0>, <pygame.mixer.Sound object at 0x7f5479d442a0>, <pygame.mixer.Sound object at 0x7f5479d99350>, <pygame.mixer.Sound object at 0x7f5479d98ed0>, <pygame.mixer.Sound object at 0x7f5479d97030>], [<pygame.mixer.Sound object at 0x7f5479d9b390>, <pygame.mixer.Sound object at 0x7f5479d9b090>, <pygame.mixer.Sound object at 0x7f5479d98f30>, <pygame.mixer.Sound object at 0x7f5479d97030>, <pygame.mixer.Sound object at 0x7f5479d9b2a0>, <pygame.mixer.Sound object at 0x7f5479d970f0>, <pygame.mixer.Sound object at 0x7f5479d99380>, <pygame.mixer.Sound object at 0x7f5479d967f0>, <pygame.mixer.Sound object at 0x7f5479d99350>, <pygame.mixer.Sound object at 0x7f5479d442a0>, <pygame.mixer.Sound object at 0x7f5479d98ed0>, <pygame.mixer.Sound object at 0x7f5479d98570>], [<pygame.mixer.Sound object at 0x7f5479d9b390>, <pygame.mixer.Sound object at 0x7f5479d98f30>, <pygame.mixer.Sound object at 0x7f5479d442a0>, <pygame.mixer.Sound object at 0x7f5479d9b2a0>, <pygame.mixer.Sound object at 0x7f5479d98ed0>, <pygame.mixer.Sound object at 0x7f5479d9b090>, <pygame.mixer.Sound object at 0x7f5479d99350>, <pygame.mixer.Sound object at 0x7f5479d99380>, <pygame.mixer.Sound object at 0x7f5479d97030>, <pygame.mixer.Sound object at 0x7f5479d98570>, <pygame.mixer.Sound object at 0x7f5479d970f0>, <pygame.mixer.Sound object at 0x7f5479d967f0>], [<pygame.mixer.Sound object at 0x7f5479d99380>, <pygame.mixer.Sound object at 0x7f5479d442a0>, <pygame.mixer.Sound object at 0x7f5479d99350>, <pygame.mixer.Sound object at 0x7f5479d98570>, <pygame.mixer.Sound object at 0x7f5479d967f0>, <pygame.mixer.Sound object at 0x7f5479d970f0>, <pygame.mixer.Sound object at 0x7f5479d9b2a0>, <pygame.mixer.Sound object at 0x7f5479d98f30>, <pygame.mixer.Sound object at 0x7f5479d9b390>, <pygame.mixer.Sound object at 0x7f5479d97030>, <pygame.mixer.Sound object at 0x7f5479d9b090>, <pygame.mixer.Sound object at 0x7f5479d98ed0>], [<pygame.mixer.Sound object at 0x7f5479d99380>, <pygame.mixer.Sound object at 0x7f5479d970f0>, <pygame.mixer.Sound object at 0x7f5479d442a0>, <pygame.mixer.Sound object at 0x7f5479d967f0>, <pygame.mixer.Sound object at 0x7f5479d98ed0>, <pygame.mixer.Sound object at 0x7f5479d9b390>, <pygame.mixer.Sound object at 0x7f5479d9b2a0>, <pygame.mixer.Sound object at 0x7f5479d9b090>, <pygame.mixer.Sound object at 0x7f5479d99350>, <pygame.mixer.Sound object at 0x7f5479d97030>, <pygame.mixer.Sound object at 0x7f5479d98f30>, <pygame.mixer.Sound object at 0x7f5479d98570>], [<pygame.mixer.Sound object at 0x7f5479d98ed0>, <pygame.mixer.Sound object at 0x7f5479d98570>, <pygame.mixer.Sound object at 0x7f5479d99380>, <pygame.mixer.Sound object at 0x7f5479d98f30>, <pygame.mixer.Sound object at 0x7f5479d970f0>, <pygame.mixer.Sound object at 0x7f5479d9b390>, <pygame.mixer.Sound object at 0x7f5479d967f0>, <pygame.mixer.Sound object at 0x7f5479d9b090>, <pygame.mixer.Sound object at 0x7f5479d442a0>, <pygame.mixer.Sound object at 0x7f5479d97030>, <pygame.mixer.Sound object at 0x7f5479d9b2a0>, <pygame.mixer.Sound object at 0x7f5479d99350>], [<pygame.mixer.Sound object at 0x7f5479d9b090>, <pygame.mixer.Sound object at 0x7f5479d98f30>, <pygame.mixer.Sound object at 0x7f5479d970f0>, <pygame.mixer.Sound object at 0x7f5479d442a0>, <pygame.mixer.Sound object at 0x7f5479d97030>, <pygame.mixer.Sound object at 0x7f5479d98570>, <pygame.mixer.Sound object at 0x7f5479d99380>, <pygame.mixer.Sound object at 0x7f5479d967f0>, <pygame.mixer.Sound object at 0x7f5479d9b390>, <pygame.mixer.Sound object at 0x7f5479d9b2a0>, <pygame.mixer.Sound object at 0x7f5479d98ed0>, <pygame.mixer.Sound object at 0x7f5479d99350>], [<pygame.mixer.Sound object at 0x7f5479d98f30>, <pygame.mixer.Sound object at 0x7f5479d99350>, <pygame.mixer.Sound object at 0x7f5479d99380>, <pygame.mixer.Sound object at 0x7f5479d98ed0>, <pygame.mixer.Sound object at 0x7f5479d9b090>, <pygame.mixer.Sound object at 0x7f5479d442a0>, <pygame.mixer.Sound object at 0x7f5479d9b2a0>, <pygame.mixer.Sound object at 0x7f5479d97030>, <pygame.mixer.Sound object at 0x7f5479d9b390>, <pygame.mixer.Sound object at 0x7f5479d970f0>, <pygame.mixer.Sound object at 0x7f5479d967f0>, <pygame.mixer.Sound object at 0x7f5479d98570>], [<pygame.mixer.Sound object at 0x7f5479d967f0>, <pygame.mixer.Sound object at 0x7f5479d9b090>, <pygame.mixer.Sound object at 0x7f5479d9b390>, <pygame.mixer.Sound object at 0x7f5479d99350>, <pygame.mixer.Sound object at 0x7f5479d970f0>, <pygame.mixer.Sound object at 0x7f5479d99380>, <pygame.mixer.Sound object at 0x7f5479d98570>, <pygame.mixer.Sound object at 0x7f5479d98f30>, <pygame.mixer.Sound object at 0x7f5479d98ed0>, <pygame.mixer.Sound object at 0x7f5479d9b2a0>, <pygame.mixer.Sound object at 0x7f5479d442a0>, <pygame.mixer.Sound object at 0x7f5479d97030>], [<pygame.mixer.Sound object at 0x7f5479d9b2a0>, <pygame.mixer.Sound object at 0x7f5479d99350>, <pygame.mixer.Sound object at 0x7f5479d98570>, <pygame.mixer.Sound object at 0x7f5479d967f0>, <pygame.mixer.Sound object at 0x7f5479d99380>, <pygame.mixer.Sound object at 0x7f5479d98ed0>, <pygame.mixer.Sound object at 0x7f5479d442a0>, <pygame.mixer.Sound object at 0x7f5479d970f0>, <pygame.mixer.Sound object at 0x7f5479d97030>, <pygame.mixer.Sound object at 0x7f5479d9b090>, <pygame.mixer.Sound object at 0x7f5479d9b390>, <pygame.mixer.Sound object at 0x7f5479d98f30>]]\n"
     ]
    }
   ],
   "source": [
    "# How many blocks are needed?\n",
    "num_blocks = 12\n",
    "\n",
    "# Create the blocks\n",
    "for tag in tags:\n",
    "    globals()[f\"{tag}_blocks\"] = block_creator(tag, num_blocks)\n",
    "    print(f\"{tag}_blocks: {globals()[f'{tag}_blocks']}\")"
   ]
  },
  {
   "cell_type": "code",
   "execution_count": 16,
   "metadata": {},
   "outputs": [
    {
     "name": "stdout",
     "output_type": "stream",
     "text": [
      "function declared\n"
     ]
    }
   ],
   "source": [
    "# Function to play a sound file and wait for it to finish\n",
    "def play_sound(sound, sound_number):\n",
    "    sound.play()\n",
    "    time.sleep(sound.get_length())\n",
    "    print(f'Sound {sound_number} finished')\n",
    "\n",
    "print(\"function declared\")"
   ]
  },
  {
   "cell_type": "markdown",
   "metadata": {},
   "source": [
    "## Pseudorandom generator"
   ]
  },
  {
   "cell_type": "markdown",
   "metadata": {},
   "source": [
    "Let's create the backbone of the pseudorandom generator"
   ]
  },
  {
   "cell_type": "code",
   "execution_count": 23,
   "metadata": {},
   "outputs": [
    {
     "name": "stdout",
     "output_type": "stream",
     "text": [
      "Original tags: \n",
      "['dog', 'environment', 'human', 'swine', 'silence']\n",
      "\n",
      "After pseudorandomization: \n",
      "['swine', 'environment', 'silence', 'environment', 'dog', 'swine', 'silence', 'human', 'environment', 'dog', 'human', 'dog', 'swine', 'human', 'silence']\n"
     ]
    }
   ],
   "source": [
    "\n",
    "# Set random seed to ensure reproducibility\n",
    "random.seed(42)\n",
    "\n",
    "# This function shuffles the list without consecutive repeats and ensures each tag appears exactly n times\n",
    "def pseudorandomizer(tags, n):\n",
    "    # Create a list with each tag appearing exactly n times\n",
    "    lst = tags * n\n",
    "    \n",
    "    while True:\n",
    "        random.shuffle(lst)\n",
    "        for i in range(1, len(lst)):\n",
    "            if lst[i] == lst[i - 1]:\n",
    "                break\n",
    "        else:\n",
    "            return lst\n",
    "\n",
    "# Example usage\n",
    "tags = ['dog', 'environment', 'human', 'swine', 'silence']\n",
    "n = 3\n",
    "\n",
    "print(\"Original tags: \")\n",
    "print(tags)\n",
    "\n",
    "# Shuffle without consecutive repeats and with each tag exactly n times\n",
    "shuffled_list = pseudorandomizer(tags, n)\n",
    "print(\"\\nAfter pseudorandomization: \")\n",
    "print(shuffled_list)"
   ]
  },
  {
   "cell_type": "code",
   "execution_count": 17,
   "metadata": {},
   "outputs": [
    {
     "name": "stdout",
     "output_type": "stream",
     "text": [
      "Sound 1 finished\n",
      "Sound 2 finished\n",
      "Sound 3 finished\n",
      "Sound 4 finished\n",
      "Sound 5 finished\n",
      "Sound 6 finished\n",
      "Sound 7 finished\n",
      "Sound 8 finished\n",
      "Sound 9 finished\n",
      "Sound 10 finished\n",
      "Sound 11 finished\n",
      "Sound 12 finished\n",
      "All sounds finished playing.\n"
     ]
    }
   ],
   "source": [
    "# Play each preloaded sound in sequence with a counter\n",
    "for idx, sound in enumerate(silence_blocks[1], start=1):\n",
    "    play_sound(sound, idx)\n",
    "\n",
    "print(\"All sounds finished playing.\")"
   ]
  }
 ],
 "metadata": {
  "kernelspec": {
   "display_name": "Python 3",
   "language": "python",
   "name": "python3"
  },
  "language_info": {
   "codemirror_mode": {
    "name": "ipython",
    "version": 3
   },
   "file_extension": ".py",
   "mimetype": "text/x-python",
   "name": "python",
   "nbconvert_exporter": "python",
   "pygments_lexer": "ipython3",
   "version": "3.10.12"
  }
 },
 "nbformat": 4,
 "nbformat_minor": 2
}
