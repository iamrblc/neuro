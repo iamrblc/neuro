{
 "cells": [
  {
   "cell_type": "markdown",
   "metadata": {},
   "source": [
    "# Audio signal presenter"
   ]
  },
  {
   "cell_type": "markdown",
   "metadata": {},
   "source": [
    "## 0. Setup"
   ]
  },
  {
   "cell_type": "markdown",
   "metadata": {},
   "source": [
    "### 0.1 Load Packages"
   ]
  },
  {
   "cell_type": "code",
   "execution_count": 23,
   "metadata": {},
   "outputs": [],
   "source": [
    "import pygame\n",
    "import time\n",
    "import os\n",
    "import random\n",
    "from collections import Counter\n",
    "import serial"
   ]
  },
  {
   "cell_type": "markdown",
   "metadata": {},
   "source": [
    "### 0.2 Set random seed to ensure reproducibility"
   ]
  },
  {
   "cell_type": "code",
   "execution_count": 24,
   "metadata": {},
   "outputs": [],
   "source": [
    "random.seed(42)"
   ]
  },
  {
   "cell_type": "markdown",
   "metadata": {},
   "source": [
    "### 0.3 Constants"
   ]
  },
  {
   "cell_type": "code",
   "execution_count": 25,
   "metadata": {},
   "outputs": [],
   "source": [
    "NUM_REPS = 3               \n",
    "BLOCK_LENGTH = 1            \n",
    "\n",
    "TAGS = ['dog',\n",
    "        'environment',\n",
    "        'human',\n",
    "        'swine',\n",
    "        'silence']"
   ]
  },
  {
   "cell_type": "markdown",
   "metadata": {},
   "source": [
    "### 0.4 Initialize pygame mixer"
   ]
  },
  {
   "cell_type": "code",
   "execution_count": 26,
   "metadata": {},
   "outputs": [
    {
     "name": "stdout",
     "output_type": "stream",
     "text": [
      "The audio modul is up and running.\n"
     ]
    }
   ],
   "source": [
    "pygame.mixer.init()\n",
    "print (\"The audio modul is up and running.\")"
   ]
  },
  {
   "cell_type": "markdown",
   "metadata": {},
   "source": [
    "### 0.5 Define functions"
   ]
  },
  {
   "cell_type": "markdown",
   "metadata": {},
   "source": [
    "#### 0.5.1 Sound loader"
   ]
  },
  {
   "cell_type": "code",
   "execution_count": 27,
   "metadata": {},
   "outputs": [],
   "source": [
    "def sound_loader(tag):\n",
    "    \"\"\"\n",
    "    Load all .wav sounds from the specified folder based on the tag.\n",
    "    \n",
    "    Parameters:\n",
    "    tag (str): The tag for the sounds, which is also the folder name (e.g., dog, pig, human).\n",
    "\n",
    "    Returns:\n",
    "    list: A list of preloaded pygame Sound objects.\n",
    "    \"\"\"\n",
    "    folder = f'../data_audio/{tag}'\n",
    "    sounds_list = []\n",
    "    \n",
    "    # Load all .wav files from the specified folder\n",
    "    for file in os.listdir(folder):\n",
    "        if file.endswith('.wav'):\n",
    "            sounds_list.append(os.path.join(folder, file))\n",
    "    \n",
    "    # Preload sound files\n",
    "    preloaded_sounds = [pygame.mixer.Sound(file) for file in sounds_list]\n",
    "    \n",
    "    print(f\"All {tag} sounds preloaded\")\n",
    "    \n",
    "    return preloaded_sounds"
   ]
  },
  {
   "cell_type": "markdown",
   "metadata": {},
   "source": [
    "#### 0.5.2 Pseudorandomizer"
   ]
  },
  {
   "cell_type": "code",
   "execution_count": 28,
   "metadata": {},
   "outputs": [],
   "source": [
    "def pseudorandomizer(tags = TAGS, num_reps = NUM_REPS):\n",
    "    '''\n",
    "    In this context \"pseudorandom\" simply means random shuffle with no\n",
    "    two subsequent elements being the same.  \n",
    "    '''\n",
    "    total_count = num_reps * len(tags)\n",
    "    tag_counter = Counter(tags * num_reps)\n",
    "    \n",
    "    result = []\n",
    "    \n",
    "    def add_tag():\n",
    "        if len(result) == total_count:\n",
    "            return True\n",
    "        \n",
    "        available_tags = [tag for tag in tags if tag_counter[tag] > 0]\n",
    "        random.shuffle(available_tags)\n",
    "        \n",
    "        for tag in available_tags:\n",
    "            if len(result) == 0 or result[-1] != tag:\n",
    "                result.append(tag)\n",
    "                tag_counter[tag] -= 1\n",
    "                \n",
    "                if add_tag():\n",
    "                    return True\n",
    "                \n",
    "                # Backtrack\n",
    "                result.pop()\n",
    "                tag_counter[tag] += 1\n",
    "        \n",
    "        return False\n",
    "    \n",
    "    add_tag()\n",
    "    return result"
   ]
  },
  {
   "cell_type": "markdown",
   "metadata": {},
   "source": [
    "#### 0.5.3 Sound player"
   ]
  },
  {
   "cell_type": "code",
   "execution_count": 29,
   "metadata": {},
   "outputs": [],
   "source": [
    "def play_sound(sound):\n",
    "    '''\n",
    "    This function is responsible for playing the sound snippets one\n",
    "    after the other. \n",
    "    '''\n",
    "    sound.play()\n",
    "    time.sleep(sound.get_length()) "
   ]
  },
  {
   "cell_type": "markdown",
   "metadata": {},
   "source": [
    "#### 0.5.4 Send signal to the LUMO computer"
   ]
  },
  {
   "cell_type": "code",
   "execution_count": 30,
   "metadata": {},
   "outputs": [],
   "source": [
    "def send_signal(message):\n",
    "    ser.write(message.encode())"
   ]
  },
  {
   "cell_type": "markdown",
   "metadata": {},
   "source": [
    "### 0.6 Set up the Serial Port"
   ]
  },
  {
   "cell_type": "code",
   "execution_count": 31,
   "metadata": {},
   "outputs": [
    {
     "name": "stdout",
     "output_type": "stream",
     "text": [
      "COM3 - Intel(R) Active Management Technology - SOL (COM3)\n"
     ]
    }
   ],
   "source": [
    "import serial.tools.list_ports\n",
    "\n",
    "# List all available ports\n",
    "ports = list(serial.tools.list_ports.comports())\n",
    "for p in ports:\n",
    "    print(p)"
   ]
  },
  {
   "cell_type": "code",
   "execution_count": 32,
   "metadata": {},
   "outputs": [
    {
     "name": "stdout",
     "output_type": "stream",
     "text": [
      "COM3 - Intel(R) Active Management Technology - SOL (COM3)\n"
     ]
    }
   ],
   "source": [
    "import serial.tools.list_ports\n",
    "\n",
    "# List all available ports\n",
    "ports = list(serial.tools.list_ports.comports())\n",
    "for p in ports:\n",
    "    print(p)"
   ]
  },
  {
   "cell_type": "code",
   "execution_count": 33,
   "metadata": {},
   "outputs": [],
   "source": [
    "SERIAL_PORT = \"COM3\"    # Same as on the LUMO device\n",
    "BAUD_RATE = 9600        # No clue what this is. The manual requests it and ChatGPT suggested this number.\n",
    "ser = serial.Serial(SERIAL_PORT, BAUD_RATE)"
   ]
  },
  {
   "cell_type": "markdown",
   "metadata": {},
   "source": [
    "## 1. Preload the sounds\n",
    "This step is crucial to avoid lagging due to buffering"
   ]
  },
  {
   "cell_type": "code",
   "execution_count": 34,
   "metadata": {},
   "outputs": [
    {
     "name": "stdout",
     "output_type": "stream",
     "text": [
      "All dog sounds preloaded\n",
      "dog_preloaded_sounds: [<pygame.mixer.Sound object at 0x0000026A870E9020>, <pygame.mixer.Sound object at 0x0000026A870E8390>, <pygame.mixer.Sound object at 0x0000026A870E8210>, <pygame.mixer.Sound object at 0x0000026A870E87E0>, <pygame.mixer.Sound object at 0x0000026A870E8D20>, <pygame.mixer.Sound object at 0x0000026A870E8300>, <pygame.mixer.Sound object at 0x0000026A870E8930>, <pygame.mixer.Sound object at 0x0000026A870E9A40>, <pygame.mixer.Sound object at 0x0000026A870E8A50>, <pygame.mixer.Sound object at 0x0000026A870E9AD0>, <pygame.mixer.Sound object at 0x0000026A870E8D50>, <pygame.mixer.Sound object at 0x0000026A870E9A10>, <pygame.mixer.Sound object at 0x0000026A870E8DE0>, <pygame.mixer.Sound object at 0x0000026A870E8540>, <pygame.mixer.Sound object at 0x0000026A870E8F90>, <pygame.mixer.Sound object at 0x0000026A870E8810>, <pygame.mixer.Sound object at 0x0000026A870E88D0>, <pygame.mixer.Sound object at 0x0000026A870E86F0>, <pygame.mixer.Sound object at 0x0000026A870E8420>, <pygame.mixer.Sound object at 0x0000026A870E8960>, <pygame.mixer.Sound object at 0x0000026A870E9050>, <pygame.mixer.Sound object at 0x0000026A870E99B0>, <pygame.mixer.Sound object at 0x0000026A870E82D0>, <pygame.mixer.Sound object at 0x0000026A870E88A0>, <pygame.mixer.Sound object at 0x0000026A870E83F0>, <pygame.mixer.Sound object at 0x0000026A870E8780>, <pygame.mixer.Sound object at 0x0000026A870E8C30>, <pygame.mixer.Sound object at 0x0000026A870E9140>, <pygame.mixer.Sound object at 0x0000026A870E89F0>, <pygame.mixer.Sound object at 0x0000026A870E81B0>, <pygame.mixer.Sound object at 0x0000026A870E8600>, <pygame.mixer.Sound object at 0x0000026A870E8720>, <pygame.mixer.Sound object at 0x0000026A870E87B0>, <pygame.mixer.Sound object at 0x0000026A870E8DB0>, <pygame.mixer.Sound object at 0x0000026A870E8B40>, <pygame.mixer.Sound object at 0x0000026A870E8AE0>, <pygame.mixer.Sound object at 0x0000026A870E8A20>, <pygame.mixer.Sound object at 0x0000026A870E8C00>, <pygame.mixer.Sound object at 0x0000026A870E8870>, <pygame.mixer.Sound object at 0x0000026A870E85D0>, <pygame.mixer.Sound object at 0x0000026A870E8FC0>, <pygame.mixer.Sound object at 0x0000026AFFB3EF10>, <pygame.mixer.Sound object at 0x0000026AFFB3FBD0>, <pygame.mixer.Sound object at 0x0000026AFFB3FC30>, <pygame.mixer.Sound object at 0x0000026AFFB3F9C0>, <pygame.mixer.Sound object at 0x0000026AFFB3F330>, <pygame.mixer.Sound object at 0x0000026AFFB3ED90>, <pygame.mixer.Sound object at 0x0000026AFFB3E6A0>, <pygame.mixer.Sound object at 0x0000026AFFB3F630>, <pygame.mixer.Sound object at 0x0000026AFFB3F3F0>, <pygame.mixer.Sound object at 0x0000026AFFB3FED0>, <pygame.mixer.Sound object at 0x0000026AFFB3E850>, <pygame.mixer.Sound object at 0x0000026AFFB3F750>, <pygame.mixer.Sound object at 0x0000026AFFB3EF40>, <pygame.mixer.Sound object at 0x0000026AFFB3FFC0>, <pygame.mixer.Sound object at 0x0000026AFFB3E8E0>, <pygame.mixer.Sound object at 0x0000026AFFB3F780>, <pygame.mixer.Sound object at 0x0000026AFFB3ED00>, <pygame.mixer.Sound object at 0x0000026AFFB3EB20>, <pygame.mixer.Sound object at 0x0000026AFFB3F660>, <pygame.mixer.Sound object at 0x0000026AFFB3F990>, <pygame.mixer.Sound object at 0x0000026AFFB3FAE0>, <pygame.mixer.Sound object at 0x0000026AFFB3F450>, <pygame.mixer.Sound object at 0x0000026AFFB3FD50>, <pygame.mixer.Sound object at 0x0000026AFFB3E790>, <pygame.mixer.Sound object at 0x0000026AFFB3FA80>, <pygame.mixer.Sound object at 0x0000026AFFB3FF60>, <pygame.mixer.Sound object at 0x0000026AFFB3FC60>]\n",
      "All environment sounds preloaded\n",
      "environment_preloaded_sounds: [<pygame.mixer.Sound object at 0x0000026A870E8A80>, <pygame.mixer.Sound object at 0x0000026AFFB3F360>, <pygame.mixer.Sound object at 0x0000026AFFB3F540>, <pygame.mixer.Sound object at 0x0000026AFFB3F5A0>, <pygame.mixer.Sound object at 0x0000026AFFB3FC90>, <pygame.mixer.Sound object at 0x0000026AFFB3FB10>, <pygame.mixer.Sound object at 0x0000026AFFB3E6D0>, <pygame.mixer.Sound object at 0x0000026AFFB3EDF0>, <pygame.mixer.Sound object at 0x0000026AFFB3EE80>, <pygame.mixer.Sound object at 0x0000026AFFB3F600>, <pygame.mixer.Sound object at 0x0000026AFFB3EB50>, <pygame.mixer.Sound object at 0x0000026AFFB3EB80>, <pygame.mixer.Sound object at 0x0000026AFFB3F6F0>, <pygame.mixer.Sound object at 0x0000026AFFB3FB70>, <pygame.mixer.Sound object at 0x0000026AFFB3F510>, <pygame.mixer.Sound object at 0x0000026AFFB3ECD0>, <pygame.mixer.Sound object at 0x0000026AFFDABC00>, <pygame.mixer.Sound object at 0x0000026AFFDAA610>, <pygame.mixer.Sound object at 0x0000026AFFDAB420>, <pygame.mixer.Sound object at 0x0000026AFFDAB810>, <pygame.mixer.Sound object at 0x0000026AFFDABBA0>, <pygame.mixer.Sound object at 0x0000026AFFDAB3F0>, <pygame.mixer.Sound object at 0x0000026AFFDABFC0>, <pygame.mixer.Sound object at 0x0000026AFFDAB1E0>, <pygame.mixer.Sound object at 0x0000026AFFDABF90>, <pygame.mixer.Sound object at 0x0000026AFFDABCC0>, <pygame.mixer.Sound object at 0x0000026AFFDABB70>, <pygame.mixer.Sound object at 0x0000026AFFDABAB0>, <pygame.mixer.Sound object at 0x0000026AFFDAB5A0>, <pygame.mixer.Sound object at 0x0000026AFFDABDE0>, <pygame.mixer.Sound object at 0x0000026AFFDAB5D0>, <pygame.mixer.Sound object at 0x0000026AFFDAB720>, <pygame.mixer.Sound object at 0x0000026AFFDAA1C0>, <pygame.mixer.Sound object at 0x0000026AFFDABAE0>, <pygame.mixer.Sound object at 0x0000026AFFDAB8D0>, <pygame.mixer.Sound object at 0x0000026AFFDA8F60>, <pygame.mixer.Sound object at 0x0000026AFFDABD80>, <pygame.mixer.Sound object at 0x0000026AFFDA8EA0>, <pygame.mixer.Sound object at 0x0000026AFFDAB9F0>, <pygame.mixer.Sound object at 0x0000026AFFDABCF0>, <pygame.mixer.Sound object at 0x0000026AFFDAB7B0>, <pygame.mixer.Sound object at 0x0000026AFFDABB10>, <pygame.mixer.Sound object at 0x0000026AFFDABD50>, <pygame.mixer.Sound object at 0x0000026AFFDAB570>, <pygame.mixer.Sound object at 0x0000026AFFDAB750>, <pygame.mixer.Sound object at 0x0000026AFFDABF60>, <pygame.mixer.Sound object at 0x0000026AFFDAB870>, <pygame.mixer.Sound object at 0x0000026AFFDAB4B0>, <pygame.mixer.Sound object at 0x0000026AFFDAB060>, <pygame.mixer.Sound object at 0x0000026AFFDAB960>, <pygame.mixer.Sound object at 0x0000026AFFDA8600>, <pygame.mixer.Sound object at 0x0000026AFFDAB480>, <pygame.mixer.Sound object at 0x0000026AFFDAB4E0>, <pygame.mixer.Sound object at 0x0000026AFFDAB6F0>, <pygame.mixer.Sound object at 0x0000026AFFDAA940>, <pygame.mixer.Sound object at 0x0000026AFFDBC2A0>, <pygame.mixer.Sound object at 0x0000026AFFDBCA20>, <pygame.mixer.Sound object at 0x0000026AFFDBC6F0>, <pygame.mixer.Sound object at 0x0000026AFFDBD350>, <pygame.mixer.Sound object at 0x0000026AFFDBD200>, <pygame.mixer.Sound object at 0x0000026AFFDBC7B0>, <pygame.mixer.Sound object at 0x0000026AFFDBCF30>, <pygame.mixer.Sound object at 0x0000026AFFDBD050>, <pygame.mixer.Sound object at 0x0000026AFFDBC300>, <pygame.mixer.Sound object at 0x0000026AFFDBCDE0>, <pygame.mixer.Sound object at 0x0000026AFFDBCF60>, <pygame.mixer.Sound object at 0x0000026AFFDBC060>, <pygame.mixer.Sound object at 0x0000026AFFDBCC60>, <pygame.mixer.Sound object at 0x0000026AFFDBC540>]\n",
      "All human sounds preloaded\n",
      "human_preloaded_sounds: [<pygame.mixer.Sound object at 0x0000026AFFDBC3C0>, <pygame.mixer.Sound object at 0x0000026AFFDBC660>, <pygame.mixer.Sound object at 0x0000026AFFDBC3F0>, <pygame.mixer.Sound object at 0x0000026AFFDBC390>, <pygame.mixer.Sound object at 0x0000026AFFDBC720>, <pygame.mixer.Sound object at 0x0000026AFFDBD080>, <pygame.mixer.Sound object at 0x0000026AFFDBCB10>, <pygame.mixer.Sound object at 0x0000026AFFDBC450>, <pygame.mixer.Sound object at 0x0000026AFFDBCDB0>, <pygame.mixer.Sound object at 0x0000026AFFDBCAB0>, <pygame.mixer.Sound object at 0x0000026AFFDBCA80>, <pygame.mixer.Sound object at 0x0000026AFFDBC210>, <pygame.mixer.Sound object at 0x0000026AFFDBCE10>, <pygame.mixer.Sound object at 0x0000026AFFDBC4E0>, <pygame.mixer.Sound object at 0x0000026AFFDBC9F0>, <pygame.mixer.Sound object at 0x0000026AFFDBCC30>, <pygame.mixer.Sound object at 0x0000026AFFDBCC90>, <pygame.mixer.Sound object at 0x0000026AFFDBC2D0>, <pygame.mixer.Sound object at 0x0000026AFFDBC0F0>, <pygame.mixer.Sound object at 0x0000026AFFDBC810>, <pygame.mixer.Sound object at 0x0000026AFFDBC090>, <pygame.mixer.Sound object at 0x0000026AFFDBC750>, <pygame.mixer.Sound object at 0x0000026AFFDBC600>, <pygame.mixer.Sound object at 0x0000026AFFDBC930>, <pygame.mixer.Sound object at 0x0000026AFFDBD290>, <pygame.mixer.Sound object at 0x0000026AFFDBC8A0>, <pygame.mixer.Sound object at 0x0000026AFFDBC150>, <pygame.mixer.Sound object at 0x0000026AFFDBD410>, <pygame.mixer.Sound object at 0x0000026AFFDBD020>, <pygame.mixer.Sound object at 0x0000026AFFDBC4B0>, <pygame.mixer.Sound object at 0x0000026AFFDBC9C0>, <pygame.mixer.Sound object at 0x0000026AFFDBC5A0>, <pygame.mixer.Sound object at 0x0000026AFFDBCD80>, <pygame.mixer.Sound object at 0x0000026AFFDBC900>, <pygame.mixer.Sound object at 0x0000026AFFDBCA50>, <pygame.mixer.Sound object at 0x0000026AFFDBCE40>, <pygame.mixer.Sound object at 0x0000026AFFDBD110>, <pygame.mixer.Sound object at 0x0000026AFFDBCD50>, <pygame.mixer.Sound object at 0x0000026AFFDBD0B0>, <pygame.mixer.Sound object at 0x0000026AFFDBCEA0>, <pygame.mixer.Sound object at 0x0000026AFFDBCF90>, <pygame.mixer.Sound object at 0x0000026AFFDBC510>, <pygame.mixer.Sound object at 0x0000026AFFDBC8D0>, <pygame.mixer.Sound object at 0x0000026AFFDBCBD0>, <pygame.mixer.Sound object at 0x0000026AFFDBC870>, <pygame.mixer.Sound object at 0x0000026AFFDBC270>, <pygame.mixer.Sound object at 0x0000026AFFDBC1E0>, <pygame.mixer.Sound object at 0x0000026AFFDBD4A0>, <pygame.mixer.Sound object at 0x0000026AFFDBD4D0>, <pygame.mixer.Sound object at 0x0000026AFFDBCF00>, <pygame.mixer.Sound object at 0x0000026AFFDBCCC0>, <pygame.mixer.Sound object at 0x0000026AFFDBC7E0>, <pygame.mixer.Sound object at 0x0000026AFFDBC360>, <pygame.mixer.Sound object at 0x0000026AFFDBC240>, <pygame.mixer.Sound object at 0x0000026AFFDBC630>, <pygame.mixer.Sound object at 0x0000026AFFDBCB40>, <pygame.mixer.Sound object at 0x0000026AFFDBC960>, <pygame.mixer.Sound object at 0x0000026AFFDBCFF0>, <pygame.mixer.Sound object at 0x0000026AFFDBD1A0>, <pygame.mixer.Sound object at 0x0000026AFFDBCFC0>, <pygame.mixer.Sound object at 0x0000026AFFDBC6C0>, <pygame.mixer.Sound object at 0x0000026AFFDBD3B0>, <pygame.mixer.Sound object at 0x0000026AFFDBCD20>]\n",
      "All swine sounds preloaded\n",
      "swine_preloaded_sounds: [<pygame.mixer.Sound object at 0x0000026AFFDBD470>, <pygame.mixer.Sound object at 0x0000026AFFDBD500>, <pygame.mixer.Sound object at 0x0000026AFFDBD440>, <pygame.mixer.Sound object at 0x0000026AFFDBD230>, <pygame.mixer.Sound object at 0x0000026AFFDBD140>, <pygame.mixer.Sound object at 0x0000026AFFDBCC00>, <pygame.mixer.Sound object at 0x0000026AFFDBD320>, <pygame.mixer.Sound object at 0x0000026AFFDBD380>, <pygame.mixer.Sound object at 0x0000026AFFDBD0E0>, <pygame.mixer.Sound object at 0x0000026AFFDBD1D0>, <pygame.mixer.Sound object at 0x0000026AFFDBC840>, <pygame.mixer.Sound object at 0x0000026AFFDBCAE0>, <pygame.mixer.Sound object at 0x0000026AFFDBD2F0>, <pygame.mixer.Sound object at 0x0000026AFFDBD3E0>, <pygame.mixer.Sound object at 0x0000026AFFDBCED0>, <pygame.mixer.Sound object at 0x0000026AFFDBC0C0>, <pygame.mixer.Sound object at 0x0000026AFFDBCCF0>, <pygame.mixer.Sound object at 0x0000026AFFDBC5D0>, <pygame.mixer.Sound object at 0x0000026AFFDBC570>, <pygame.mixer.Sound object at 0x0000026AFFDBC990>, <pygame.mixer.Sound object at 0x0000026AFFDBC120>, <pygame.mixer.Sound object at 0x0000026AFFDBC180>, <pygame.mixer.Sound object at 0x0000026AFFDBC780>, <pygame.mixer.Sound object at 0x0000026AFFDBCE70>, <pygame.mixer.Sound object at 0x0000026AFFDBC690>, <pygame.mixer.Sound object at 0x0000026AFFDBCBA0>, <pygame.mixer.Sound object at 0x0000026AFFDBD2C0>, <pygame.mixer.Sound object at 0x0000026AFFDBCB70>, <pygame.mixer.Sound object at 0x0000026AFFDBD170>, <pygame.mixer.Sound object at 0x0000026AFFDBD260>, <pygame.mixer.Sound object at 0x0000026A87320030>, <pygame.mixer.Sound object at 0x0000026A87320060>, <pygame.mixer.Sound object at 0x0000026A87320090>, <pygame.mixer.Sound object at 0x0000026A873200C0>, <pygame.mixer.Sound object at 0x0000026A873200F0>, <pygame.mixer.Sound object at 0x0000026A87320120>, <pygame.mixer.Sound object at 0x0000026A87320150>, <pygame.mixer.Sound object at 0x0000026A87320180>, <pygame.mixer.Sound object at 0x0000026A873201B0>, <pygame.mixer.Sound object at 0x0000026A873201E0>, <pygame.mixer.Sound object at 0x0000026A87320210>, <pygame.mixer.Sound object at 0x0000026A87320240>, <pygame.mixer.Sound object at 0x0000026A87320270>, <pygame.mixer.Sound object at 0x0000026A873202A0>, <pygame.mixer.Sound object at 0x0000026A873202D0>, <pygame.mixer.Sound object at 0x0000026A87320300>, <pygame.mixer.Sound object at 0x0000026A87320330>, <pygame.mixer.Sound object at 0x0000026A87320360>, <pygame.mixer.Sound object at 0x0000026A87320390>, <pygame.mixer.Sound object at 0x0000026A873203C0>, <pygame.mixer.Sound object at 0x0000026A873203F0>, <pygame.mixer.Sound object at 0x0000026A87320420>, <pygame.mixer.Sound object at 0x0000026A87320450>, <pygame.mixer.Sound object at 0x0000026A87320480>, <pygame.mixer.Sound object at 0x0000026A873204B0>, <pygame.mixer.Sound object at 0x0000026A873204E0>, <pygame.mixer.Sound object at 0x0000026A87320510>, <pygame.mixer.Sound object at 0x0000026A87320540>, <pygame.mixer.Sound object at 0x0000026A87320570>, <pygame.mixer.Sound object at 0x0000026A873205A0>, <pygame.mixer.Sound object at 0x0000026A873205D0>, <pygame.mixer.Sound object at 0x0000026A87320600>, <pygame.mixer.Sound object at 0x0000026A87320630>, <pygame.mixer.Sound object at 0x0000026A87320660>, <pygame.mixer.Sound object at 0x0000026A87320690>, <pygame.mixer.Sound object at 0x0000026A873206C0>, <pygame.mixer.Sound object at 0x0000026A873206F0>, <pygame.mixer.Sound object at 0x0000026A87320720>, <pygame.mixer.Sound object at 0x0000026A87320750>, <pygame.mixer.Sound object at 0x0000026A87320780>, <pygame.mixer.Sound object at 0x0000026A873207B0>, <pygame.mixer.Sound object at 0x0000026A873207E0>, <pygame.mixer.Sound object at 0x0000026A87320810>, <pygame.mixer.Sound object at 0x0000026A87320840>, <pygame.mixer.Sound object at 0x0000026A87320870>]\n",
      "All silence sounds preloaded\n",
      "silence_preloaded_sounds: [<pygame.mixer.Sound object at 0x0000026A873208A0>, <pygame.mixer.Sound object at 0x0000026A873208D0>, <pygame.mixer.Sound object at 0x0000026A87320900>, <pygame.mixer.Sound object at 0x0000026A87320930>, <pygame.mixer.Sound object at 0x0000026A87320960>, <pygame.mixer.Sound object at 0x0000026A87320990>, <pygame.mixer.Sound object at 0x0000026A873209C0>, <pygame.mixer.Sound object at 0x0000026A873209F0>, <pygame.mixer.Sound object at 0x0000026A87320A20>, <pygame.mixer.Sound object at 0x0000026A87320A50>, <pygame.mixer.Sound object at 0x0000026A87320A80>, <pygame.mixer.Sound object at 0x0000026A87320AB0>]\n"
     ]
    }
   ],
   "source": [
    "# Preload all the sounds\n",
    "for tag in TAGS:\n",
    "    preloaded_sounds = sound_loader(tag)\n",
    "    globals()[f\"{tag}_preloaded_sounds\"] = preloaded_sounds\n",
    "    print(f\"{tag}_preloaded_sounds: {preloaded_sounds}\")"
   ]
  },
  {
   "cell_type": "markdown",
   "metadata": {},
   "source": [
    "## 2. Create the pseudorandom sequence of blocks\n",
    "A more proper term could be non-repetitive random or constrained random. But I just stick with pseudorandom. The idea is that the blocks are randomized but two consecutive blocks cannot be the same. "
   ]
  },
  {
   "cell_type": "code",
   "execution_count": 35,
   "metadata": {},
   "outputs": [
    {
     "name": "stdout",
     "output_type": "stream",
     "text": [
      "15 ['swine', 'human', 'swine', 'environment', 'silence', 'human', 'environment', 'silence', 'swine', 'human', 'dog', 'silence', 'dog', 'environment', 'dog']\n"
     ]
    }
   ],
   "source": [
    "block_sequence = pseudorandomizer()\n",
    "print(len(block_sequence), block_sequence)"
   ]
  },
  {
   "cell_type": "markdown",
   "metadata": {},
   "source": [
    "## 3. Run the experiment\n",
    "\n",
    "Each block will be 6 seconds long. (Snippets are 0.5 seconds, so 12 of them are needed for one block.) The snippets are selected randomly from the audio pool. There is also a silence block. That's simply generated as 6 seconds of silence.v"
   ]
  },
  {
   "cell_type": "code",
   "execution_count": 36,
   "metadata": {},
   "outputs": [
    {
     "name": "stdout",
     "output_type": "stream",
     "text": [
      "Experiment starts now.\n",
      "swine sounds played\n",
      "2 sec pause over\n",
      "human sounds played\n",
      "2 sec pause over\n",
      "swine sounds played\n",
      "2 sec pause over\n",
      "environment sounds played\n",
      "2 sec pause over\n",
      "silence sounds played\n",
      "2 sec pause over\n",
      "human sounds played\n",
      "2 sec pause over\n",
      "environment sounds played\n",
      "2 sec pause over\n",
      "silence sounds played\n",
      "2 sec pause over\n",
      "swine sounds played\n",
      "2 sec pause over\n",
      "human sounds played\n",
      "2 sec pause over\n",
      "dog sounds played\n",
      "2 sec pause over\n",
      "silence sounds played\n",
      "2 sec pause over\n",
      "dog sounds played\n",
      "2 sec pause over\n",
      "environment sounds played\n",
      "2 sec pause over\n",
      "dog sounds played\n",
      "2 sec pause over\n",
      "Experiment is over.\n"
     ]
    }
   ],
   "source": [
    "# Function to play a sound file and wait for it to finish\n",
    "print(\"Experiment starts now.\")\n",
    "for block in block_sequence:\n",
    "    send_signal(f\"start {block}\")\n",
    "    preloaded_sounds = eval(f\"{block}_preloaded_sounds\")\n",
    "    play_this = random.sample(preloaded_sounds, BLOCK_LENGTH*2)\n",
    "    for snippet in play_this:\n",
    "        play_sound(snippet)\n",
    "    print(f\"{block} sounds played\")\n",
    "    send_signal(f\"end {block}\")\n",
    "    time.sleep(2)\n",
    "    print(\"2 sec pause over\")\n",
    "print(\"Experiment is over.\")"
   ]
  }
 ],
 "metadata": {
  "kernelspec": {
   "display_name": "Python 3",
   "language": "python",
   "name": "python3"
  },
  "language_info": {
   "codemirror_mode": {
    "name": "ipython",
    "version": 3
   },
   "file_extension": ".py",
   "mimetype": "text/x-python",
   "name": "python",
   "nbconvert_exporter": "python",
   "pygments_lexer": "ipython3",
   "version": "3.10.14"
  }
 },
 "nbformat": 4,
 "nbformat_minor": 2
}
