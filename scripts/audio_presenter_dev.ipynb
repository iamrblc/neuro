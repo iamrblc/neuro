{
 "cells": [
  {
   "cell_type": "code",
   "execution_count": 1,
   "metadata": {},
   "outputs": [
    {
     "name": "stdout",
     "output_type": "stream",
     "text": [
      "pygame 2.5.2 (SDL 2.28.2, Python 3.10.12)\n",
      "Hello from the pygame community. https://www.pygame.org/contribute.html\n"
     ]
    }
   ],
   "source": [
    "import pygame\n",
    "import time\n",
    "import os"
   ]
  },
  {
   "cell_type": "code",
   "execution_count": 2,
   "metadata": {},
   "outputs": [
    {
     "name": "stdout",
     "output_type": "stream",
     "text": [
      "Pygame mixer initialized\n",
      "Sound files added\n"
     ]
    }
   ],
   "source": [
    "# Initialize pygame mixer\n",
    "pygame.mixer.init()\n",
    "\n",
    "print (\"Pygame mixer initialized\")\n",
    "\n",
    "# List of sound files to be played sequentially\n",
    "sound_files = ['dog_001.wav',\n",
    "               'dog_002.wav',\n",
    "               'dog_003.wav',\n",
    "               'dog_004.wav',\n",
    "               'dog_005.wav',\n",
    "               'dog_006.wav']\n",
    "\n",
    "print (\"Sound files added\")"
   ]
  },
  {
   "cell_type": "code",
   "execution_count": 4,
   "metadata": {},
   "outputs": [
    {
     "data": {
      "text/plain": [
       "'/home/rblc/elte/neuro/scripts'"
      ]
     },
     "execution_count": 4,
     "metadata": {},
     "output_type": "execute_result"
    }
   ],
   "source": [
    "# CWD is the current working directory\n",
    "os.getcwd()"
   ]
  },
  {
   "cell_type": "code",
   "execution_count": null,
   "metadata": {},
   "outputs": [],
   "source": [
    "# Make ./scripts the current working directory\n",
    "os.chdir(os.path.dirname(__file__))\n",
    "print (\"Current working directory set to ./scripts\")\n",
    "\n",
    "# Preload sound files\n",
    "sounds = [pygame.mixer.Sound(file) for file in sound_files]\n",
    "\n",
    "print (\"Sounds preloaded\")\n",
    "\n",
    "# Function to play a sound file and wait for it to finish\n",
    "def play_sound(sound, sound_number):\n",
    "    sound.play()\n",
    "    time.sleep(sound.get_length())\n",
    "    print(f'Sound {sound_number} finished')\n",
    "\n",
    "print(\"function declared\")\n",
    "\n",
    "# Play each preloaded sound in sequence with a counter\n",
    "for idx, sound in enumerate(sounds, start=1):\n",
    "    play_sound(sound, idx)\n",
    "\n",
    "print(\"All sounds finished playing.\")\n",
    "\n"
   ]
  }
 ],
 "metadata": {
  "kernelspec": {
   "display_name": "Python 3",
   "language": "python",
   "name": "python3"
  },
  "language_info": {
   "codemirror_mode": {
    "name": "ipython",
    "version": 3
   },
   "file_extension": ".py",
   "mimetype": "text/x-python",
   "name": "python",
   "nbconvert_exporter": "python",
   "pygments_lexer": "ipython3",
   "version": "3.10.12"
  }
 },
 "nbformat": 4,
 "nbformat_minor": 2
}
