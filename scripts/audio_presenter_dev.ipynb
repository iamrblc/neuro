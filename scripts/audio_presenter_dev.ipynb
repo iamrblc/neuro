{
 "cells": [
  {
   "cell_type": "markdown",
   "metadata": {},
   "source": [
    "# Audio signal presenter"
   ]
  },
  {
   "cell_type": "code",
   "execution_count": 1,
   "metadata": {},
   "outputs": [
    {
     "name": "stdout",
     "output_type": "stream",
     "text": [
      "pygame 2.5.2 (SDL 2.28.2, Python 3.10.12)\n",
      "Hello from the pygame community. https://www.pygame.org/contribute.html\n"
     ]
    }
   ],
   "source": [
    "import pygame\n",
    "import time\n",
    "import os\n",
    "import random"
   ]
  },
  {
   "cell_type": "markdown",
   "metadata": {},
   "source": [
    "## Get audio"
   ]
  },
  {
   "cell_type": "code",
   "execution_count": 2,
   "metadata": {},
   "outputs": [
    {
     "name": "stdout",
     "output_type": "stream",
     "text": [
      "The audio modul is initialized\n"
     ]
    }
   ],
   "source": [
    "# Initialize pygame mixer\n",
    "pygame.mixer.init()\n",
    "\n",
    "print (\"The audio modul is initialized\")"
   ]
  },
  {
   "cell_type": "code",
   "execution_count": 3,
   "metadata": {},
   "outputs": [],
   "source": [
    "def sound_loader(tag):\n",
    "    \"\"\"\n",
    "    Load all .wav sounds from the specified folder based on the tag.\n",
    "    \n",
    "    Parameters:\n",
    "    tag (str): The tag for the sounds, which is also the folder name (e.g., dog, pig, human).\n",
    "\n",
    "    Returns:\n",
    "    list: A list of preloaded pygame Sound objects.\n",
    "    \"\"\"\n",
    "    folder = f'../data_audio/{tag}'\n",
    "    sounds_list = []\n",
    "    \n",
    "    # Load all .wav files from the specified folder\n",
    "    for file in os.listdir(folder):\n",
    "        if file.endswith('.wav'):\n",
    "            sounds_list.append(os.path.join(folder, file))\n",
    "    \n",
    "    # Preload sound files\n",
    "    preloaded_sounds = [pygame.mixer.Sound(file) for file in sounds_list]\n",
    "    \n",
    "    print(f\"All {tag} sounds preloaded\")\n",
    "    \n",
    "    return preloaded_sounds"
   ]
  },
  {
   "cell_type": "markdown",
   "metadata": {},
   "source": [
    "### Preload the sounds\n",
    "This step is crucial to avoid lagging due to buffering"
   ]
  },
  {
   "cell_type": "code",
   "execution_count": 4,
   "metadata": {},
   "outputs": [
    {
     "name": "stdout",
     "output_type": "stream",
     "text": [
      "All dog sounds preloaded\n",
      "dog_preloaded_sounds: [<pygame.mixer.Sound object at 0x7efe083db780>, <pygame.mixer.Sound object at 0x7efe083dadf0>, <pygame.mixer.Sound object at 0x7efe0841d0b0>, <pygame.mixer.Sound object at 0x7efde9d4def0>, <pygame.mixer.Sound object at 0x7efde9d4fa50>, <pygame.mixer.Sound object at 0x7efde9d4e730>, <pygame.mixer.Sound object at 0x7efde9d4c7b0>, <pygame.mixer.Sound object at 0x7efde9d4d320>, <pygame.mixer.Sound object at 0x7efde9d4db00>, <pygame.mixer.Sound object at 0x7efde9d4e9a0>, <pygame.mixer.Sound object at 0x7efde9d4cea0>, <pygame.mixer.Sound object at 0x7efde9d4ff00>, <pygame.mixer.Sound object at 0x7efde9d4e3a0>, <pygame.mixer.Sound object at 0x7efde9d4e790>, <pygame.mixer.Sound object at 0x7efde9d4c480>, <pygame.mixer.Sound object at 0x7efde9d4ee80>, <pygame.mixer.Sound object at 0x7efde9d4f8d0>, <pygame.mixer.Sound object at 0x7efde9d4d920>, <pygame.mixer.Sound object at 0x7efde9d4ed00>, <pygame.mixer.Sound object at 0x7efde9d4edf0>, <pygame.mixer.Sound object at 0x7efde9d4c7e0>, <pygame.mixer.Sound object at 0x7efde9d4e010>, <pygame.mixer.Sound object at 0x7efde9d4dad0>, <pygame.mixer.Sound object at 0x7efde9d4da70>, <pygame.mixer.Sound object at 0x7efde9d4dce0>, <pygame.mixer.Sound object at 0x7efdeb75b2d0>, <pygame.mixer.Sound object at 0x7efdeb759e60>, <pygame.mixer.Sound object at 0x7efdeb759ef0>, <pygame.mixer.Sound object at 0x7efdeb759170>, <pygame.mixer.Sound object at 0x7efdeb758b70>, <pygame.mixer.Sound object at 0x7efdeb759da0>, <pygame.mixer.Sound object at 0x7efdeb75a190>, <pygame.mixer.Sound object at 0x7efdeb758330>, <pygame.mixer.Sound object at 0x7efdeb758240>, <pygame.mixer.Sound object at 0x7efdeb7582d0>, <pygame.mixer.Sound object at 0x7efdeb7582a0>, <pygame.mixer.Sound object at 0x7efdeb7588a0>, <pygame.mixer.Sound object at 0x7efdeb758180>, <pygame.mixer.Sound object at 0x7efdeb758390>, <pygame.mixer.Sound object at 0x7efdeb758150>, <pygame.mixer.Sound object at 0x7efdeb7589c0>, <pygame.mixer.Sound object at 0x7efdeb759c20>, <pygame.mixer.Sound object at 0x7efdeb758d80>, <pygame.mixer.Sound object at 0x7efdeb75a4f0>, <pygame.mixer.Sound object at 0x7efe0837c240>, <pygame.mixer.Sound object at 0x7efe0837c2d0>, <pygame.mixer.Sound object at 0x7efe0837c5d0>, <pygame.mixer.Sound object at 0x7efe0837c960>, <pygame.mixer.Sound object at 0x7efe0837c2a0>, <pygame.mixer.Sound object at 0x7efe0837cbd0>, <pygame.mixer.Sound object at 0x7efe0837cae0>, <pygame.mixer.Sound object at 0x7efe0837c7e0>, <pygame.mixer.Sound object at 0x7efe0837c570>, <pygame.mixer.Sound object at 0x7efe0837ca20>, <pygame.mixer.Sound object at 0x7efe0837c120>, <pygame.mixer.Sound object at 0x7efe0837ca80>, <pygame.mixer.Sound object at 0x7efe0837c1b0>, <pygame.mixer.Sound object at 0x7efe0837c270>, <pygame.mixer.Sound object at 0x7efe0837c690>, <pygame.mixer.Sound object at 0x7efe0837c210>, <pygame.mixer.Sound object at 0x7efe0837c0f0>, <pygame.mixer.Sound object at 0x7efe0837c450>, <pygame.mixer.Sound object at 0x7efe0837c750>, <pygame.mixer.Sound object at 0x7efe0837cb10>, <pygame.mixer.Sound object at 0x7efe0837c7b0>, <pygame.mixer.Sound object at 0x7efe0837c3c0>, <pygame.mixer.Sound object at 0x7efe0837c630>, <pygame.mixer.Sound object at 0x7efe0837cb40>]\n",
      "All environment sounds preloaded\n",
      "environment_preloaded_sounds: [<pygame.mixer.Sound object at 0x7efe0837c600>, <pygame.mixer.Sound object at 0x7efe0837c5a0>, <pygame.mixer.Sound object at 0x7efe0837c870>, <pygame.mixer.Sound object at 0x7efe0837c990>, <pygame.mixer.Sound object at 0x7efe0837cab0>, <pygame.mixer.Sound object at 0x7efe0837c810>, <pygame.mixer.Sound object at 0x7efe0837c9f0>, <pygame.mixer.Sound object at 0x7efe0837c930>, <pygame.mixer.Sound object at 0x7efe0837c900>, <pygame.mixer.Sound object at 0x7efe0837c8d0>, <pygame.mixer.Sound object at 0x7efe0837c720>, <pygame.mixer.Sound object at 0x7efe0837c6c0>, <pygame.mixer.Sound object at 0x7efe0837ca50>, <pygame.mixer.Sound object at 0x7efde9d9b7e0>, <pygame.mixer.Sound object at 0x7efde9d9b600>, <pygame.mixer.Sound object at 0x7efde9d9b7b0>, <pygame.mixer.Sound object at 0x7efde9d9b750>, <pygame.mixer.Sound object at 0x7efde9d9b720>, <pygame.mixer.Sound object at 0x7efde9d9b6c0>, <pygame.mixer.Sound object at 0x7efde9d9b060>, <pygame.mixer.Sound object at 0x7efde9d9afa0>, <pygame.mixer.Sound object at 0x7efde9d9b540>, <pygame.mixer.Sound object at 0x7efde9d9b3f0>, <pygame.mixer.Sound object at 0x7efde9d9b840>, <pygame.mixer.Sound object at 0x7efde9d9b8a0>, <pygame.mixer.Sound object at 0x7efde9d9af10>, <pygame.mixer.Sound object at 0x7efde9d9adc0>, <pygame.mixer.Sound object at 0x7efde9d9a400>, <pygame.mixer.Sound object at 0x7efde9d9a3a0>, <pygame.mixer.Sound object at 0x7efde9d9a340>, <pygame.mixer.Sound object at 0x7efde9d9a160>, <pygame.mixer.Sound object at 0x7efde9d9a310>, <pygame.mixer.Sound object at 0x7efde9d9a2b0>, <pygame.mixer.Sound object at 0x7efde9d9a280>, <pygame.mixer.Sound object at 0x7efde9d9a220>, <pygame.mixer.Sound object at 0x7efde9d995f0>, <pygame.mixer.Sound object at 0x7efde9d993b0>, <pygame.mixer.Sound object at 0x7efde9d99500>, <pygame.mixer.Sound object at 0x7efde9d99440>, <pygame.mixer.Sound object at 0x7efde9d99470>, <pygame.mixer.Sound object at 0x7efde9d98db0>, <pygame.mixer.Sound object at 0x7efde9d98d50>, <pygame.mixer.Sound object at 0x7efde9d98d20>, <pygame.mixer.Sound object at 0x7efde9d99d70>, <pygame.mixer.Sound object at 0x7efde9d99d10>, <pygame.mixer.Sound object at 0x7efde9d99cb0>, <pygame.mixer.Sound object at 0x7efde9d99ad0>, <pygame.mixer.Sound object at 0x7efde9d99c80>, <pygame.mixer.Sound object at 0x7efde9d99c20>, <pygame.mixer.Sound object at 0x7efde9d99bf0>, <pygame.mixer.Sound object at 0x7efde9d99b90>, <pygame.mixer.Sound object at 0x7efde9d9aa30>, <pygame.mixer.Sound object at 0x7efde9d9a9d0>, <pygame.mixer.Sound object at 0x7efde9d9b4b0>, <pygame.mixer.Sound object at 0x7efde9d9b000>, <pygame.mixer.Sound object at 0x7efde9d9aee0>, <pygame.mixer.Sound object at 0x7efde9d9af70>, <pygame.mixer.Sound object at 0x7efde9d9a850>, <pygame.mixer.Sound object at 0x7efde9d9a8b0>, <pygame.mixer.Sound object at 0x7efde9d9a8e0>, <pygame.mixer.Sound object at 0x7efde9d9a940>, <pygame.mixer.Sound object at 0x7efde9d9a790>, <pygame.mixer.Sound object at 0x7efde9d9a970>, <pygame.mixer.Sound object at 0x7efde9d9b5a0>, <pygame.mixer.Sound object at 0x7efde9d9b510>, <pygame.mixer.Sound object at 0x7efde9d9ae80>, <pygame.mixer.Sound object at 0x7efde9d9b5d0>, <pygame.mixer.Sound object at 0x7efde9d9b630>, <pygame.mixer.Sound object at 0x7efde9d9b690>]\n",
      "All human sounds preloaded\n",
      "human_preloaded_sounds: [<pygame.mixer.Sound object at 0x7efde9d987e0>, <pygame.mixer.Sound object at 0x7efde9d98720>, <pygame.mixer.Sound object at 0x7efde9d98810>, <pygame.mixer.Sound object at 0x7efde9d988a0>, <pygame.mixer.Sound object at 0x7efde9d98660>, <pygame.mixer.Sound object at 0x7efde9d98900>, <pygame.mixer.Sound object at 0x7efde9d98930>, <pygame.mixer.Sound object at 0x7efde9d989f0>, <pygame.mixer.Sound object at 0x7efde9d9ac70>, <pygame.mixer.Sound object at 0x7efde9d9acd0>, <pygame.mixer.Sound object at 0x7efde9d9ad00>, <pygame.mixer.Sound object at 0x7efde9d9ad60>, <pygame.mixer.Sound object at 0x7efde9d9abb0>, <pygame.mixer.Sound object at 0x7efde9d9ad90>, <pygame.mixer.Sound object at 0x7efde9d9adf0>, <pygame.mixer.Sound object at 0x7efde9d9ae50>, <pygame.mixer.Sound object at 0x7efde9d9bcf0>, <pygame.mixer.Sound object at 0x7efde9d9bd50>, <pygame.mixer.Sound object at 0x7efde9d9bd80>, <pygame.mixer.Sound object at 0x7efde9d9bde0>, <pygame.mixer.Sound object at 0x7efde9d9bc30>, <pygame.mixer.Sound object at 0x7efde9d9be10>, <pygame.mixer.Sound object at 0x7efde9d9be70>, <pygame.mixer.Sound object at 0x7efde9d9bed0>, <pygame.mixer.Sound object at 0x7efde9d9a640>, <pygame.mixer.Sound object at 0x7efde9d9a6a0>, <pygame.mixer.Sound object at 0x7efde9d9a6d0>, <pygame.mixer.Sound object at 0x7efde9d9a730>, <pygame.mixer.Sound object at 0x7efde9d9a580>, <pygame.mixer.Sound object at 0x7efde9d9a760>, <pygame.mixer.Sound object at 0x7efde9d9a7c0>, <pygame.mixer.Sound object at 0x7efde9d9a820>, <pygame.mixer.Sound object at 0x7efde9d98ab0>, <pygame.mixer.Sound object at 0x7efde9d98960>, <pygame.mixer.Sound object at 0x7efde9d98b40>, <pygame.mixer.Sound object at 0x7efde9d98c00>, <pygame.mixer.Sound object at 0x7efde9d991d0>, <pygame.mixer.Sound object at 0x7efde9d98600>, <pygame.mixer.Sound object at 0x7efde9d98690>, <pygame.mixer.Sound object at 0x7efde9d98540>, <pygame.mixer.Sound object at 0x7efde9d9a010>, <pygame.mixer.Sound object at 0x7efde9d9a070>, <pygame.mixer.Sound object at 0x7efde9d9a0a0>, <pygame.mixer.Sound object at 0x7efde9d9a100>, <pygame.mixer.Sound object at 0x7efde9d99f50>, <pygame.mixer.Sound object at 0x7efde9d9a130>, <pygame.mixer.Sound object at 0x7efde9d9a190>, <pygame.mixer.Sound object at 0x7efde9d9a1f0>, <pygame.mixer.Sound object at 0x7efde9d9b8d0>, <pygame.mixer.Sound object at 0x7efde9d9b930>, <pygame.mixer.Sound object at 0x7efde9d9b960>, <pygame.mixer.Sound object at 0x7efde9d9b9c0>, <pygame.mixer.Sound object at 0x7efde9d9b810>, <pygame.mixer.Sound object at 0x7efde9d9b9f0>, <pygame.mixer.Sound object at 0x7efde9d9ba50>, <pygame.mixer.Sound object at 0x7efde9d9bab0>, <pygame.mixer.Sound object at 0x7efde9d99da0>, <pygame.mixer.Sound object at 0x7efde9d99e00>, <pygame.mixer.Sound object at 0x7efde9d99e30>, <pygame.mixer.Sound object at 0x7efde9d99e90>, <pygame.mixer.Sound object at 0x7efde9d99ce0>, <pygame.mixer.Sound object at 0x7efde9d99ef0>, <pygame.mixer.Sound object at 0x7efde9d99f80>]\n",
      "All swine sounds preloaded\n",
      "swine_preloaded_sounds: [<pygame.mixer.Sound object at 0x7efde9d99770>, <pygame.mixer.Sound object at 0x7efde9d99fe0>, <pygame.mixer.Sound object at 0x7efde9d997d0>, <pygame.mixer.Sound object at 0x7efde9d99800>, <pygame.mixer.Sound object at 0x7efde9d99860>, <pygame.mixer.Sound object at 0x7efde9d996b0>, <pygame.mixer.Sound object at 0x7efde9d99890>, <pygame.mixer.Sound object at 0x7efde9d998f0>, <pygame.mixer.Sound object at 0x7efde9d99950>, <pygame.mixer.Sound object at 0x7efde9d983f0>, <pygame.mixer.Sound object at 0x7efde9d98480>, <pygame.mixer.Sound object at 0x7efde9d984e0>, <pygame.mixer.Sound object at 0x7efde9d98510>, <pygame.mixer.Sound object at 0x7efde9d98750>, <pygame.mixer.Sound object at 0x7efde9d98570>, <pygame.mixer.Sound object at 0x7efde9d98030>, <pygame.mixer.Sound object at 0x7efde9d980c0>, <pygame.mixer.Sound object at 0x7efde9d9b090>, <pygame.mixer.Sound object at 0x7efde9d9b0f0>, <pygame.mixer.Sound object at 0x7efde9d9b120>, <pygame.mixer.Sound object at 0x7efde9d9b180>, <pygame.mixer.Sound object at 0x7efde9d9afd0>, <pygame.mixer.Sound object at 0x7efde9d9b1b0>, <pygame.mixer.Sound object at 0x7efde9d9b210>, <pygame.mixer.Sound object at 0x7efde9d9b270>, <pygame.mixer.Sound object at 0x7efde9d9b2a0>, <pygame.mixer.Sound object at 0x7efde9d9b300>, <pygame.mixer.Sound object at 0x7efde9d9b330>, <pygame.mixer.Sound object at 0x7efde9d9b390>, <pygame.mixer.Sound object at 0x7efde9d9b1e0>, <pygame.mixer.Sound object at 0x7efde9d9b3c0>, <pygame.mixer.Sound object at 0x7efde9d9b420>, <pygame.mixer.Sound object at 0x7efde9d9b480>, <pygame.mixer.Sound object at 0x7efde9d9a430>, <pygame.mixer.Sound object at 0x7efde9d9a490>, <pygame.mixer.Sound object at 0x7efde9d9a4c0>, <pygame.mixer.Sound object at 0x7efde9d9a520>, <pygame.mixer.Sound object at 0x7efde9d9a370>, <pygame.mixer.Sound object at 0x7efde9d9a550>, <pygame.mixer.Sound object at 0x7efde9d9a5b0>, <pygame.mixer.Sound object at 0x7efde9d9a610>, <pygame.mixer.Sound object at 0x7efde9d982d0>, <pygame.mixer.Sound object at 0x7efde9d98300>, <pygame.mixer.Sound object at 0x7efde9d98360>, <pygame.mixer.Sound object at 0x7efde9d995c0>, <pygame.mixer.Sound object at 0x7efde9d98d80>, <pygame.mixer.Sound object at 0x7efde9d99680>, <pygame.mixer.Sound object at 0x7efde9d996e0>, <pygame.mixer.Sound object at 0x7efde9d99740>, <pygame.mixer.Sound object at 0x7efde9d9bae0>, <pygame.mixer.Sound object at 0x7efde9d9bb40>, <pygame.mixer.Sound object at 0x7efde9d9bb70>, <pygame.mixer.Sound object at 0x7efde9d9bbd0>, <pygame.mixer.Sound object at 0x7efde9d9ba20>, <pygame.mixer.Sound object at 0x7efde9d9bc00>, <pygame.mixer.Sound object at 0x7efde9d9bc60>, <pygame.mixer.Sound object at 0x7efde9d9bcc0>, <pygame.mixer.Sound object at 0x7efde9d99980>, <pygame.mixer.Sound object at 0x7efde9d999e0>, <pygame.mixer.Sound object at 0x7efde9d99a10>, <pygame.mixer.Sound object at 0x7efde9d99a70>, <pygame.mixer.Sound object at 0x7efde9d998c0>, <pygame.mixer.Sound object at 0x7efde9d99aa0>, <pygame.mixer.Sound object at 0x7efde9d99b00>, <pygame.mixer.Sound object at 0x7efde9d99b60>, <pygame.mixer.Sound object at 0x7efde9d99260>, <pygame.mixer.Sound object at 0x7efde9d992f0>, <pygame.mixer.Sound object at 0x7efde9d99350>, <pygame.mixer.Sound object at 0x7efde9d99380>, <pygame.mixer.Sound object at 0x7efde9d993e0>, <pygame.mixer.Sound object at 0x7efde9d98c30>, <pygame.mixer.Sound object at 0x7efde9d98cc0>, <pygame.mixer.Sound object at 0x7efde9d980f0>, <pygame.mixer.Sound object at 0x7efde9d981b0>, <pygame.mixer.Sound object at 0x7efde9d98e40>]\n"
     ]
    }
   ],
   "source": [
    "# Preload all the sounds\n",
    "tags = ['dog', 'environment', 'human', 'swine']\n",
    "\n",
    "for tag in tags:\n",
    "    preloaded_sounds = sound_loader(tag)\n",
    "    globals()[f\"{tag}_preloaded_sounds\"] = preloaded_sounds\n",
    "    print(f\"{tag}_preloaded_sounds: {preloaded_sounds}\")"
   ]
  },
  {
   "cell_type": "markdown",
   "metadata": {},
   "source": [
    "### Generate experimental blocks\n",
    "Each block will be 6 seconds long. (Snippets are 0.5 seconds, so 12 of them are needed for one block.)\n",
    "The snippets are selected randomly from the audio pool. \n",
    "There is also a silence block. That's simply generated as 6 seconds of silence."
   ]
  },
  {
   "cell_type": "code",
   "execution_count": 5,
   "metadata": {},
   "outputs": [],
   "source": [
    "def block_creator(preloaded_sounds):\n",
    "    \"\"\"\n",
    "    Create a list of 12 random, unique sounds from the preloaded list.\n",
    "    \n",
    "    Parameters:\n",
    "    preloaded_sounds (list): A list of preloaded pygame Sound objects.\n",
    "\n",
    "    Returns:\n",
    "    list: A list of 12 random, unique sounds.\n",
    "    \"\"\"\n",
    "    # Select 12 random, unique sounds from the list\n",
    "    return random.sample(preloaded_sounds, 12)\n",
    "\n"
   ]
  },
  {
   "cell_type": "code",
   "execution_count": 6,
   "metadata": {},
   "outputs": [],
   "source": [
    "\n",
    "\n",
    "\n",
    "\n",
    "\n",
    "# Select 12 random, unique sounds from the list\n",
    "dog_001 = block_creator(dog_preloaded_sounds)\n",
    "\n",
    "\n",
    "    \n",
    "\n",
    "preloaded_lists = [dog_preloaded_sounds,\n",
    "                   environment_preloaded_sounds,\n",
    "                   human_preloaded_sounds,\n",
    "                   swine_preloaded_sounds]"
   ]
  },
  {
   "cell_type": "code",
   "execution_count": 7,
   "metadata": {},
   "outputs": [
    {
     "name": "stdout",
     "output_type": "stream",
     "text": [
      "function declared\n"
     ]
    }
   ],
   "source": [
    "# Function to play a sound file and wait for it to finish\n",
    "def play_sound(sound, sound_number):\n",
    "    sound.play()\n",
    "    time.sleep(sound.get_length())\n",
    "    print(f'Sound {sound_number} finished')\n",
    "\n",
    "print(\"function declared\")"
   ]
  },
  {
   "cell_type": "code",
   "execution_count": 9,
   "metadata": {},
   "outputs": [
    {
     "name": "stdout",
     "output_type": "stream",
     "text": [
      "Sound 1 finished\n",
      "Sound 2 finished\n",
      "Sound 3 finished\n",
      "Sound 4 finished\n",
      "Sound 5 finished\n",
      "Sound 6 finished\n",
      "Sound 7 finished\n",
      "Sound 8 finished\n",
      "Sound 9 finished\n",
      "Sound 10 finished\n",
      "Sound 11 finished\n",
      "Sound 12 finished\n",
      "All sounds finished playing.\n"
     ]
    }
   ],
   "source": [
    "# Play each preloaded sound in sequence with a counter\n",
    "for idx, sound in enumerate(dog_001, start=1):\n",
    "    play_sound(sound, idx)\n",
    "\n",
    "print(\"All sounds finished playing.\")"
   ]
  },
  {
   "cell_type": "code",
   "execution_count": null,
   "metadata": {},
   "outputs": [],
   "source": []
  },
  {
   "cell_type": "markdown",
   "metadata": {},
   "source": [
    "## Pseudorandom generator"
   ]
  },
  {
   "cell_type": "markdown",
   "metadata": {},
   "source": [
    "Let's create the backbone of the pseudorandom generator"
   ]
  },
  {
   "cell_type": "code",
   "execution_count": null,
   "metadata": {},
   "outputs": [],
   "source": [
    "# Set random seed to ensure reproducibility\n",
    "random.seed(42)\n",
    "\n",
    "# This isolates the tag (dog, human, etc)\n",
    "def get_tag(element):\n",
    "    return element.split('_')[0]\n",
    "\n",
    "# This function shuffles the list without consecutive repeats\n",
    "def pseudorandomizer(lst):\n",
    "    while True:\n",
    "        random.shuffle(lst)                                        # Shuffle the list\n",
    "        for i in range(1, len(lst)):\n",
    "            if get_tag(lst[i]) == get_tag(lst[i - 1]):             # But if two following tags are the same, reshuffle\n",
    "                break\n",
    "        else:\n",
    "            return lst                                             # If they are not the same move on\n",
    "\n",
    "sample_list = ['dog_1', 'pig_1', 'human_1', 'environment_1', 'silence_1', \n",
    "               'dog_2', 'pig_2', 'human_2', 'environment_2', 'silence_2', \n",
    "               'dog_3', 'pig_3', 'human_3', 'environment_3', 'silence_3']\n",
    "\n",
    "print(\"Original list: \")\n",
    "print(sample_list)\n",
    "\n",
    "# Shuffle without consecutive repeats\n",
    "shuffled_list = pseudorandomizer(sample_list)\n",
    "print(\"\\nAfter pseudorandomization: \")\n",
    "print(shuffled_list)\n"
   ]
  }
 ],
 "metadata": {
  "kernelspec": {
   "display_name": "Python 3",
   "language": "python",
   "name": "python3"
  },
  "language_info": {
   "codemirror_mode": {
    "name": "ipython",
    "version": 3
   },
   "file_extension": ".py",
   "mimetype": "text/x-python",
   "name": "python",
   "nbconvert_exporter": "python",
   "pygments_lexer": "ipython3",
   "version": "3.10.12"
  }
 },
 "nbformat": 4,
 "nbformat_minor": 2
}
