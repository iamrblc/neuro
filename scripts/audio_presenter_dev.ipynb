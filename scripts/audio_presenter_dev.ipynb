{
 "cells": [
  {
   "cell_type": "code",
   "execution_count": 10,
   "metadata": {},
   "outputs": [],
   "source": [
    "import pygame\n",
    "import time\n",
    "import os"
   ]
  },
  {
   "cell_type": "code",
   "execution_count": 11,
   "metadata": {},
   "outputs": [
    {
     "name": "stdout",
     "output_type": "stream",
     "text": [
      "Pygame mixer initialized\n",
      "Sound files added\n"
     ]
    }
   ],
   "source": [
    "# Initialize pygame mixer\n",
    "pygame.mixer.init()\n",
    "\n",
    "print (\"Pygame mixer initialized\")\n",
    "\n",
    "# List of sound files to be played sequentially\n",
    "sound_files = ['dog_001.wav',\n",
    "               'dog_002.wav',\n",
    "               'dog_003.wav',\n",
    "               'dog_004.wav',\n",
    "               'dog_005.wav',\n",
    "               'dog_006.wav']\n",
    "\n",
    "print (\"Sound files added\")"
   ]
  },
  {
   "cell_type": "code",
   "execution_count": 12,
   "metadata": {},
   "outputs": [
    {
     "name": "stdout",
     "output_type": "stream",
     "text": [
      "Sounds preloaded\n"
     ]
    }
   ],
   "source": [
    "# Preload sound files\n",
    "sounds = [pygame.mixer.Sound(file) for file in sound_files]\n",
    "\n",
    "print (\"Sounds preloaded\")"
   ]
  },
  {
   "cell_type": "code",
   "execution_count": 13,
   "metadata": {},
   "outputs": [
    {
     "name": "stdout",
     "output_type": "stream",
     "text": [
      "function declared\n"
     ]
    }
   ],
   "source": [
    "# Function to play a sound file and wait for it to finish\n",
    "def play_sound(sound, sound_number):\n",
    "    sound.play()\n",
    "    time.sleep(sound.get_length())\n",
    "    print(f'Sound {sound_number} finished')\n",
    "\n",
    "print(\"function declared\")"
   ]
  },
  {
   "cell_type": "code",
   "execution_count": 14,
   "metadata": {},
   "outputs": [
    {
     "name": "stdout",
     "output_type": "stream",
     "text": [
      "Sound 1 finished\n",
      "Sound 2 finished\n",
      "Sound 3 finished\n",
      "Sound 4 finished\n",
      "Sound 5 finished\n",
      "Sound 6 finished\n",
      "All sounds finished playing.\n"
     ]
    }
   ],
   "source": [
    "# Play each preloaded sound in sequence with a counter\n",
    "for idx, sound in enumerate(sounds, start=1):\n",
    "    play_sound(sound, idx)\n",
    "\n",
    "print(\"All sounds finished playing.\")"
   ]
  }
 ],
 "metadata": {
  "kernelspec": {
   "display_name": "Python 3",
   "language": "python",
   "name": "python3"
  },
  "language_info": {
   "codemirror_mode": {
    "name": "ipython",
    "version": 3
   },
   "file_extension": ".py",
   "mimetype": "text/x-python",
   "name": "python",
   "nbconvert_exporter": "python",
   "pygments_lexer": "ipython3",
   "version": "3.10.12"
  }
 },
 "nbformat": 4,
 "nbformat_minor": 2
}
