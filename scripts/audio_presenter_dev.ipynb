{
 "cells": [
  {
   "cell_type": "markdown",
   "metadata": {},
   "source": [
    "# Audio signal presenter"
   ]
  },
  {
   "cell_type": "markdown",
   "metadata": {},
   "source": [
    "## 0. Setup"
   ]
  },
  {
   "cell_type": "markdown",
   "metadata": {},
   "source": [
    "### 0.1 Load Packages"
   ]
  },
  {
   "cell_type": "code",
   "execution_count": 29,
   "metadata": {},
   "outputs": [],
   "source": [
    "import pygame\n",
    "import time\n",
    "import os\n",
    "import random\n",
    "from collections import Counter"
   ]
  },
  {
   "cell_type": "markdown",
   "metadata": {},
   "source": [
    "### 0.2 Set random seed to ensure reproducibility"
   ]
  },
  {
   "cell_type": "code",
   "execution_count": 18,
   "metadata": {},
   "outputs": [],
   "source": [
    "random.seed(42)"
   ]
  },
  {
   "cell_type": "markdown",
   "metadata": {},
   "source": [
    "### 0.3 Constants"
   ]
  },
  {
   "cell_type": "code",
   "execution_count": 19,
   "metadata": {},
   "outputs": [],
   "source": [
    "NUM_REPS = 15                \n",
    "BLOCK_LENGTH = 6            \n",
    "\n",
    "TAGS = ['dog',\n",
    "        'environment',\n",
    "        'human',\n",
    "        'swine',\n",
    "        'silence']"
   ]
  },
  {
   "cell_type": "markdown",
   "metadata": {},
   "source": [
    "### 0.4 Initialize pygame mixer"
   ]
  },
  {
   "cell_type": "code",
   "execution_count": 20,
   "metadata": {},
   "outputs": [
    {
     "name": "stdout",
     "output_type": "stream",
     "text": [
      "The audio modul is up and running.\n"
     ]
    }
   ],
   "source": [
    "pygame.mixer.init()\n",
    "print (\"The audio modul is up and running.\")"
   ]
  },
  {
   "cell_type": "markdown",
   "metadata": {},
   "source": [
    "### 0.5 Define functions"
   ]
  },
  {
   "cell_type": "markdown",
   "metadata": {},
   "source": [
    "#### 0.5.1 Sound loader"
   ]
  },
  {
   "cell_type": "code",
   "execution_count": 21,
   "metadata": {},
   "outputs": [],
   "source": [
    "def sound_loader(tag):\n",
    "    \"\"\"\n",
    "    Load all .wav sounds from the specified folder based on the tag.\n",
    "    \n",
    "    Parameters:\n",
    "    tag (str): The tag for the sounds, which is also the folder name (e.g., dog, pig, human).\n",
    "\n",
    "    Returns:\n",
    "    list: A list of preloaded pygame Sound objects.\n",
    "    \"\"\"\n",
    "    folder = f'../data_audio/{tag}'\n",
    "    sounds_list = []\n",
    "    \n",
    "    # Load all .wav files from the specified folder\n",
    "    for file in os.listdir(folder):\n",
    "        if file.endswith('.wav'):\n",
    "            sounds_list.append(os.path.join(folder, file))\n",
    "    \n",
    "    # Preload sound files\n",
    "    preloaded_sounds = [pygame.mixer.Sound(file) for file in sounds_list]\n",
    "    \n",
    "    print(f\"All {tag} sounds preloaded\")\n",
    "    \n",
    "    return preloaded_sounds"
   ]
  },
  {
   "cell_type": "markdown",
   "metadata": {},
   "source": [
    "#### 0.5.2 Pseudorandomizer"
   ]
  },
  {
   "cell_type": "code",
   "execution_count": 22,
   "metadata": {},
   "outputs": [],
   "source": [
    "def pseudorandomizer(tags = TAGS, num_reps = NUM_REPS):\n",
    "    '''\n",
    "    In this context \"pseudorandom\" simply means random shuffle with no\n",
    "    two subsequent elements being the same.  \n",
    "    '''\n",
    "    total_count = num_reps * len(tags)\n",
    "    tag_counter = Counter(tags * num_reps)\n",
    "    \n",
    "    result = []\n",
    "    \n",
    "    def add_tag():\n",
    "        if len(result) == total_count:\n",
    "            return True\n",
    "        \n",
    "        available_tags = [tag for tag in tags if tag_counter[tag] > 0]\n",
    "        random.shuffle(available_tags)\n",
    "        \n",
    "        for tag in available_tags:\n",
    "            if len(result) == 0 or result[-1] != tag:\n",
    "                result.append(tag)\n",
    "                tag_counter[tag] -= 1\n",
    "                \n",
    "                if add_tag():\n",
    "                    return True\n",
    "                \n",
    "                # Backtrack\n",
    "                result.pop()\n",
    "                tag_counter[tag] += 1\n",
    "        \n",
    "        return False\n",
    "    \n",
    "    add_tag()\n",
    "    return result"
   ]
  },
  {
   "cell_type": "markdown",
   "metadata": {},
   "source": [
    "#### 0.5.3 Sound player"
   ]
  },
  {
   "cell_type": "code",
   "execution_count": 23,
   "metadata": {},
   "outputs": [],
   "source": [
    "def play_sound(sound):\n",
    "    '''\n",
    "    This function is responsible for playing the sound snippets one\n",
    "    after the other. \n",
    "    '''\n",
    "    sound.play()\n",
    "    time.sleep(sound.get_length()) "
   ]
  },
  {
   "cell_type": "markdown",
   "metadata": {},
   "source": [
    "## 1. Preload the sounds\n",
    "This step is crucial to avoid lagging due to buffering"
   ]
  },
  {
   "cell_type": "code",
   "execution_count": 24,
   "metadata": {},
   "outputs": [
    {
     "name": "stdout",
     "output_type": "stream",
     "text": [
      "All dog sounds preloaded\n",
      "dog_preloaded_sounds: [<pygame.mixer.Sound object at 0x7f48f5b91080>, <pygame.mixer.Sound object at 0x7f48f5b783c0>, <pygame.mixer.Sound object at 0x7f48f5b78270>, <pygame.mixer.Sound object at 0x7f49102b19b0>, <pygame.mixer.Sound object at 0x7f48f5b85170>, <pygame.mixer.Sound object at 0x7f48f5b87cc0>, <pygame.mixer.Sound object at 0x7f48f5b87c00>, <pygame.mixer.Sound object at 0x7f48f5b840f0>, <pygame.mixer.Sound object at 0x7f49104eadf0>, <pygame.mixer.Sound object at 0x7f48f5b56d00>, <pygame.mixer.Sound object at 0x7f48f5b570c0>, <pygame.mixer.Sound object at 0x7f48f5b558c0>, <pygame.mixer.Sound object at 0x7f48f5b56ca0>, <pygame.mixer.Sound object at 0x7f48f5b55950>, <pygame.mixer.Sound object at 0x7f48f5b55740>, <pygame.mixer.Sound object at 0x7f48f5b56880>, <pygame.mixer.Sound object at 0x7f48f5b557a0>, <pygame.mixer.Sound object at 0x7f48f5b567c0>, <pygame.mixer.Sound object at 0x7f48f5b57c30>, <pygame.mixer.Sound object at 0x7f48f5b57b10>, <pygame.mixer.Sound object at 0x7f48f5b55170>, <pygame.mixer.Sound object at 0x7f48f5b55b30>, <pygame.mixer.Sound object at 0x7f48f5b55830>, <pygame.mixer.Sound object at 0x7f48f5b57960>, <pygame.mixer.Sound object at 0x7f48f5b57e10>, <pygame.mixer.Sound object at 0x7f48f5b54930>, <pygame.mixer.Sound object at 0x7f48f5b57ea0>, <pygame.mixer.Sound object at 0x7f48f5b57660>, <pygame.mixer.Sound object at 0x7f48f5b54600>, <pygame.mixer.Sound object at 0x7f48f5b54d80>, <pygame.mixer.Sound object at 0x7f48f5b56040>, <pygame.mixer.Sound object at 0x7f48f5b56a60>, <pygame.mixer.Sound object at 0x7f48f5b54a20>, <pygame.mixer.Sound object at 0x7f48f5b566a0>, <pygame.mixer.Sound object at 0x7f48f5b568b0>, <pygame.mixer.Sound object at 0x7f48f5b57300>, <pygame.mixer.Sound object at 0x7f48f5b54c60>, <pygame.mixer.Sound object at 0x7f48f5b54810>, <pygame.mixer.Sound object at 0x7f48f5b57d80>, <pygame.mixer.Sound object at 0x7f48f5b559b0>, <pygame.mixer.Sound object at 0x7f48f5b55080>, <pygame.mixer.Sound object at 0x7f48f5b569d0>, <pygame.mixer.Sound object at 0x7f48f5b550e0>, <pygame.mixer.Sound object at 0x7f48f5b57870>, <pygame.mixer.Sound object at 0x7f48f5b57750>, <pygame.mixer.Sound object at 0x7f48f5b54fc0>, <pygame.mixer.Sound object at 0x7f48f5b57b70>, <pygame.mixer.Sound object at 0x7f48f5b56520>, <pygame.mixer.Sound object at 0x7f48f5b54120>, <pygame.mixer.Sound object at 0x7f48f5b55410>, <pygame.mixer.Sound object at 0x7f48f5b556b0>, <pygame.mixer.Sound object at 0x7f48f5b54570>, <pygame.mixer.Sound object at 0x7f48f5b579f0>, <pygame.mixer.Sound object at 0x7f48f5b57a80>, <pygame.mixer.Sound object at 0x7f48f5b57c90>, <pygame.mixer.Sound object at 0x7f48f5b57450>, <pygame.mixer.Sound object at 0x7f48f5b57900>, <pygame.mixer.Sound object at 0x7f48f5b55a40>, <pygame.mixer.Sound object at 0x7f48f5b551d0>, <pygame.mixer.Sound object at 0x7f48f5b55380>, <pygame.mixer.Sound object at 0x7f48f5b54360>, <pygame.mixer.Sound object at 0x7f48f5b54480>, <pygame.mixer.Sound object at 0x7f48f5b577e0>, <pygame.mixer.Sound object at 0x7f48f5b54bd0>, <pygame.mixer.Sound object at 0x7f48f5b545a0>, <pygame.mixer.Sound object at 0x7f48f5b55920>, <pygame.mixer.Sound object at 0x7f48f5b57e40>, <pygame.mixer.Sound object at 0x7f48f5b570f0>]\n",
      "All environment sounds preloaded\n",
      "environment_preloaded_sounds: [<pygame.mixer.Sound object at 0x7f491017fcc0>, <pygame.mixer.Sound object at 0x7f4910315200>, <pygame.mixer.Sound object at 0x7f4910123ab0>, <pygame.mixer.Sound object at 0x7f4910121ad0>, <pygame.mixer.Sound object at 0x7f49101213e0>, <pygame.mixer.Sound object at 0x7f49104dc900>, <pygame.mixer.Sound object at 0x7f49104dc540>, <pygame.mixer.Sound object at 0x7f4910139950>, <pygame.mixer.Sound object at 0x7f4910138ae0>, <pygame.mixer.Sound object at 0x7f491013ab80>, <pygame.mixer.Sound object at 0x7f49105d6430>, <pygame.mixer.Sound object at 0x7f49104e8a80>, <pygame.mixer.Sound object at 0x7f49104ebfc0>, <pygame.mixer.Sound object at 0x7f4910197c30>, <pygame.mixer.Sound object at 0x7f49101977b0>, <pygame.mixer.Sound object at 0x7f4910196ac0>, <pygame.mixer.Sound object at 0x7f48f5b93d50>, <pygame.mixer.Sound object at 0x7f48f5ba2af0>, <pygame.mixer.Sound object at 0x7f48f5ba08a0>, <pygame.mixer.Sound object at 0x7f48f5ba0f90>, <pygame.mixer.Sound object at 0x7f48f5ba26d0>, <pygame.mixer.Sound object at 0x7f48f5ba0e10>, <pygame.mixer.Sound object at 0x7f48f5ba3f60>, <pygame.mixer.Sound object at 0x7f48f5ba0960>, <pygame.mixer.Sound object at 0x7f48f5ba0c90>, <pygame.mixer.Sound object at 0x7f48f5ba3e70>, <pygame.mixer.Sound object at 0x7f48f5ba0ed0>, <pygame.mixer.Sound object at 0x7f48f5ba3f90>, <pygame.mixer.Sound object at 0x7f48f5ba2790>, <pygame.mixer.Sound object at 0x7f48f5ba2730>, <pygame.mixer.Sound object at 0x7f48f5ba24f0>, <pygame.mixer.Sound object at 0x7f48f5ba18f0>, <pygame.mixer.Sound object at 0x7f48f5ba3360>, <pygame.mixer.Sound object at 0x7f48f5ba1980>, <pygame.mixer.Sound object at 0x7f48f5ba1950>, <pygame.mixer.Sound object at 0x7f48f5ba34b0>, <pygame.mixer.Sound object at 0x7f48f5ba1320>, <pygame.mixer.Sound object at 0x7f48f5ba3510>, <pygame.mixer.Sound object at 0x7f48f5ba3420>, <pygame.mixer.Sound object at 0x7f48f5ba1aa0>, <pygame.mixer.Sound object at 0x7f48f5ba1d40>, <pygame.mixer.Sound object at 0x7f48f5ba1c80>, <pygame.mixer.Sound object at 0x7f48f5ba1ce0>, <pygame.mixer.Sound object at 0x7f48f5ba3fc0>, <pygame.mixer.Sound object at 0x7f48f5ba3d80>, <pygame.mixer.Sound object at 0x7f48f5ba01b0>, <pygame.mixer.Sound object at 0x7f48f5ba3e40>, <pygame.mixer.Sound object at 0x7f48f5ba3de0>, <pygame.mixer.Sound object at 0x7f48f5ba06f0>, <pygame.mixer.Sound object at 0x7f48f5ba0090>, <pygame.mixer.Sound object at 0x7f48f5ba0360>, <pygame.mixer.Sound object at 0x7f48f5ba22b0>, <pygame.mixer.Sound object at 0x7f48f5ba20d0>, <pygame.mixer.Sound object at 0x7f48f5ba2190>, <pygame.mixer.Sound object at 0x7f48f5ba2280>, <pygame.mixer.Sound object at 0x7f48f5ba21f0>, <pygame.mixer.Sound object at 0x7f48f5ba2220>, <pygame.mixer.Sound object at 0x7f48f5ba13e0>, <pygame.mixer.Sound object at 0x7f48f5ba12c0>, <pygame.mixer.Sound object at 0x7f48f5ba02d0>, <pygame.mixer.Sound object at 0x7f48f5ba35a0>, <pygame.mixer.Sound object at 0x7f48f5ba1140>, <pygame.mixer.Sound object at 0x7f48f5ba0c30>, <pygame.mixer.Sound object at 0x7f48f5ba13b0>, <pygame.mixer.Sound object at 0x7f48f5ba3540>, <pygame.mixer.Sound object at 0x7f48f5ba1830>, <pygame.mixer.Sound object at 0x7f48f5ba19e0>, <pygame.mixer.Sound object at 0x7f48f5ba3600>, <pygame.mixer.Sound object at 0x7f48f5b56220>]\n",
      "All human sounds preloaded\n",
      "human_preloaded_sounds: [<pygame.mixer.Sound object at 0x7f48f5ba26a0>, <pygame.mixer.Sound object at 0x7f48f5ba2640>, <pygame.mixer.Sound object at 0x7f48f5ba3a20>, <pygame.mixer.Sound object at 0x7f48f5ba39c0>, <pygame.mixer.Sound object at 0x7f48f5ba2b20>, <pygame.mixer.Sound object at 0x7f48f5ba2a60>, <pygame.mixer.Sound object at 0x7f48f5ba3cf0>, <pygame.mixer.Sound object at 0x7f48f5ba11a0>, <pygame.mixer.Sound object at 0x7f48f5ba0570>, <pygame.mixer.Sound object at 0x7f48f5ba1e90>, <pygame.mixer.Sound object at 0x7f48f5ba17d0>, <pygame.mixer.Sound object at 0x7f48f5ba3ba0>, <pygame.mixer.Sound object at 0x7f48f5ba1c50>, <pygame.mixer.Sound object at 0x7f48f5ba3060>, <pygame.mixer.Sound object at 0x7f48f5ba3d50>, <pygame.mixer.Sound object at 0x7f48f5ba2f10>, <pygame.mixer.Sound object at 0x7f48f5ba2e80>, <pygame.mixer.Sound object at 0x7f48f5ba2ee0>, <pygame.mixer.Sound object at 0x7f48f5ba2e50>, <pygame.mixer.Sound object at 0x7f48f5ba2d30>, <pygame.mixer.Sound object at 0x7f48f5ba2310>, <pygame.mixer.Sound object at 0x7f48f5ba2ac0>, <pygame.mixer.Sound object at 0x7f48f5ba2910>, <pygame.mixer.Sound object at 0x7f48f5ba0fc0>, <pygame.mixer.Sound object at 0x7f48f5ba3480>, <pygame.mixer.Sound object at 0x7f48f5ba3330>, <pygame.mixer.Sound object at 0x7f48f5ba3150>, <pygame.mixer.Sound object at 0x7f48f5ba3300>, <pygame.mixer.Sound object at 0x7f48f5ba32a0>, <pygame.mixer.Sound object at 0x7f48f5ba3270>, <pygame.mixer.Sound object at 0x7f48f5ba05d0>, <pygame.mixer.Sound object at 0x7f48f5ba2520>, <pygame.mixer.Sound object at 0x7f48f5ba14a0>, <pygame.mixer.Sound object at 0x7f48f5ba2070>, <pygame.mixer.Sound object at 0x7f48f5ba1ec0>, <pygame.mixer.Sound object at 0x7f48f5ba20a0>, <pygame.mixer.Sound object at 0x7f48f5ba2100>, <pygame.mixer.Sound object at 0x7f48f5ba2160>, <pygame.mixer.Sound object at 0x7f48f5ba0a80>, <pygame.mixer.Sound object at 0x7f48f5ba0ab0>, <pygame.mixer.Sound object at 0x7f48f5ba0b10>, <pygame.mixer.Sound object at 0x7f48f5ba1110>, <pygame.mixer.Sound object at 0x7f48f5ba0030>, <pygame.mixer.Sound object at 0x7f48f5ba11d0>, <pygame.mixer.Sound object at 0x7f48f5ba1230>, <pygame.mixer.Sound object at 0x7f48f5ba1290>, <pygame.mixer.Sound object at 0x7f48f5ba3630>, <pygame.mixer.Sound object at 0x7f48f5ba36c0>, <pygame.mixer.Sound object at 0x7f48f5ba3720>, <pygame.mixer.Sound object at 0x7f48f5ba3570>, <pygame.mixer.Sound object at 0x7f48f5ba3750>, <pygame.mixer.Sound object at 0x7f48f5ba37b0>, <pygame.mixer.Sound object at 0x7f48f5ba3810>, <pygame.mixer.Sound object at 0x7f48f5ba14d0>, <pygame.mixer.Sound object at 0x7f48f5ba1530>, <pygame.mixer.Sound object at 0x7f48f5ba0060>, <pygame.mixer.Sound object at 0x7f48f5ba0120>, <pygame.mixer.Sound object at 0x7f48f5ba0990>, <pygame.mixer.Sound object at 0x7f48f5ba0a20>, <pygame.mixer.Sound object at 0x7f48f5ba25b0>, <pygame.mixer.Sound object at 0x7f48f5ba2610>, <pygame.mixer.Sound object at 0x7f48f5ba0cc0>, <pygame.mixer.Sound object at 0x7f48f5ba3210>]\n",
      "All swine sounds preloaded\n",
      "swine_preloaded_sounds: [<pygame.mixer.Sound object at 0x7f491010d710>, <pygame.mixer.Sound object at 0x7f491010c750>, <pygame.mixer.Sound object at 0x7f491010dc50>, <pygame.mixer.Sound object at 0x7f491010f5a0>, <pygame.mixer.Sound object at 0x7f491010e520>, <pygame.mixer.Sound object at 0x7f491010ced0>, <pygame.mixer.Sound object at 0x7f491010df20>, <pygame.mixer.Sound object at 0x7f491010d6e0>, <pygame.mixer.Sound object at 0x7f491010efd0>, <pygame.mixer.Sound object at 0x7f491010f270>, <pygame.mixer.Sound object at 0x7f491010cc60>, <pygame.mixer.Sound object at 0x7f491010ccc0>, <pygame.mixer.Sound object at 0x7f491010d290>, <pygame.mixer.Sound object at 0x7f48f5ba0150>, <pygame.mixer.Sound object at 0x7f48f5ba0ba0>, <pygame.mixer.Sound object at 0x7f48f5ba1200>, <pygame.mixer.Sound object at 0x7f48f5ba1440>, <pygame.mixer.Sound object at 0x7f48f5ba0240>, <pygame.mixer.Sound object at 0x7f48f5ba1e00>, <pygame.mixer.Sound object at 0x7f48f5ba24c0>, <pygame.mixer.Sound object at 0x7f48f5ba16e0>, <pygame.mixer.Sound object at 0x7f48f5ba23a0>, <pygame.mixer.Sound object at 0x7f48f5ba2580>, <pygame.mixer.Sound object at 0x7f48f5ba3cc0>, <pygame.mixer.Sound object at 0x7f48f5ba10e0>, <pygame.mixer.Sound object at 0x7f48f5ba0600>, <pygame.mixer.Sound object at 0x7f48f5ba1cb0>, <pygame.mixer.Sound object at 0x7f48f5ba2c40>, <pygame.mixer.Sound object at 0x7f48f5ba2cd0>, <pygame.mixer.Sound object at 0x7f48f5ba0660>, <pygame.mixer.Sound object at 0x7f48f5ba0690>, <pygame.mixer.Sound object at 0x7f48f5ba27c0>, <pygame.mixer.Sound object at 0x7f48f5ba2820>, <pygame.mixer.Sound object at 0x7f48f5ba2850>, <pygame.mixer.Sound object at 0x7f48f5ba28b0>, <pygame.mixer.Sound object at 0x7f48f5ba2700>, <pygame.mixer.Sound object at 0x7f48f5ba28e0>, <pygame.mixer.Sound object at 0x7f48f5ba2940>, <pygame.mixer.Sound object at 0x7f48f5ba29a0>, <pygame.mixer.Sound object at 0x7f48f5ba3840>, <pygame.mixer.Sound object at 0x7f48f5ba38a0>, <pygame.mixer.Sound object at 0x7f48f5ba38d0>, <pygame.mixer.Sound object at 0x7f48f5ba3930>, <pygame.mixer.Sound object at 0x7f48f5ba3780>, <pygame.mixer.Sound object at 0x7f48f5ba3960>, <pygame.mixer.Sound object at 0x7f48f5ba1560>, <pygame.mixer.Sound object at 0x7f48f5ba15c0>, <pygame.mixer.Sound object at 0x7f48f5ba1410>, <pygame.mixer.Sound object at 0x7f48f5ba15f0>, <pygame.mixer.Sound object at 0x7f48f5ba1650>, <pygame.mixer.Sound object at 0x7f48f5ba16b0>, <pygame.mixer.Sound object at 0x7f48f5ba03c0>, <pygame.mixer.Sound object at 0x7f48f5ba0450>, <pygame.mixer.Sound object at 0x7f48f5ba02a0>, <pygame.mixer.Sound object at 0x7f48f5ba04e0>, <pygame.mixer.Sound object at 0x7f48f5ba0270>, <pygame.mixer.Sound object at 0x7f48f5ba0540>, <pygame.mixer.Sound object at 0x7f48f5ba3180>, <pygame.mixer.Sound object at 0x7f48f5ba1b60>, <pygame.mixer.Sound object at 0x7f48f5ba1bc0>, <pygame.mixer.Sound object at 0x7f48f5ba2370>, <pygame.mixer.Sound object at 0x7f48f5ba22e0>, <pygame.mixer.Sound object at 0x7f48f5ba1b30>, <pygame.mixer.Sound object at 0x7f48f5ba1f50>, <pygame.mixer.Sound object at 0x7f48f5ba1ef0>, <pygame.mixer.Sound object at 0x7f48f5ba1d70>, <pygame.mixer.Sound object at 0x7f48f5ba0e40>, <pygame.mixer.Sound object at 0x7f4910253450>, <pygame.mixer.Sound object at 0x7f48f5b57a20>, <pygame.mixer.Sound object at 0x7f48f5b56ac0>, <pygame.mixer.Sound object at 0x7f48f5b56940>, <pygame.mixer.Sound object at 0x7f48f5b55c50>, <pygame.mixer.Sound object at 0x7f48f5baafd0>, <pygame.mixer.Sound object at 0x7f48f5ba9fe0>, <pygame.mixer.Sound object at 0x7f48f5ba89f0>]\n",
      "All silence sounds preloaded\n",
      "silence_preloaded_sounds: [<pygame.mixer.Sound object at 0x7f4910235bc0>, <pygame.mixer.Sound object at 0x7f4910234ea0>, <pygame.mixer.Sound object at 0x7f4910237c00>, <pygame.mixer.Sound object at 0x7f4910236ac0>, <pygame.mixer.Sound object at 0x7f49102373c0>, <pygame.mixer.Sound object at 0x7f49102352c0>, <pygame.mixer.Sound object at 0x7f49104d7750>, <pygame.mixer.Sound object at 0x7f49104d7480>, <pygame.mixer.Sound object at 0x7f49104d72d0>, <pygame.mixer.Sound object at 0x7f49104d7390>, <pygame.mixer.Sound object at 0x7f49104d77e0>, <pygame.mixer.Sound object at 0x7f49104d74e0>]\n"
     ]
    }
   ],
   "source": [
    "# Preload all the sounds\n",
    "for tag in TAGS:\n",
    "    preloaded_sounds = sound_loader(tag)\n",
    "    globals()[f\"{tag}_preloaded_sounds\"] = preloaded_sounds\n",
    "    print(f\"{tag}_preloaded_sounds: {preloaded_sounds}\")"
   ]
  },
  {
   "cell_type": "markdown",
   "metadata": {},
   "source": [
    "## 2. Create the pseudorandom sequence of blocks\n",
    "A more proper term could be non-repetitive random or constrained random. But I just stick with pseudorandom. The idea is that the blocks are randomized but two consecutive blocks cannot be the same. "
   ]
  },
  {
   "cell_type": "code",
   "execution_count": 25,
   "metadata": {},
   "outputs": [
    {
     "name": "stdout",
     "output_type": "stream",
     "text": [
      "75 ['swine', 'human', 'swine', 'environment', 'silence', 'human', 'environment', 'silence', 'swine', 'silence', 'swine', 'human', 'dog', 'swine', 'human', 'swine', 'silence', 'dog', 'swine', 'dog', 'swine', 'human', 'environment', 'swine', 'human', 'dog', 'environment', 'silence', 'environment', 'silence', 'dog', 'environment', 'silence', 'swine', 'silence', 'swine', 'silence', 'swine', 'human', 'swine', 'human', 'swine', 'dog', 'swine', 'dog', 'environment', 'human', 'silence', 'dog', 'environment', 'silence', 'environment', 'dog', 'silence', 'human', 'environment', 'silence', 'dog', 'environment', 'human', 'environment', 'human', 'dog', 'silence', 'human', 'environment', 'human', 'dog', 'human', 'silence', 'dog', 'environment', 'dog', 'environment', 'dog']\n"
     ]
    }
   ],
   "source": [
    "block_sequence = pseudorandomizer()\n",
    "print(len(block_sequence), block_sequence)"
   ]
  },
  {
   "cell_type": "markdown",
   "metadata": {},
   "source": [
    "## 3. Run the experiment\n",
    "\n",
    "Each block will be 6 seconds long. (Snippets are 0.5 seconds, so 12 of them are needed for one block.) The snippets are selected randomly from the audio pool. There is also a silence block. That's simply generated as 6 seconds of silence.v"
   ]
  },
  {
   "cell_type": "code",
   "execution_count": 31,
   "metadata": {},
   "outputs": [
    {
     "name": "stdout",
     "output_type": "stream",
     "text": [
      "Experiment starts now.\n",
      "swine sounds played\n"
     ]
    },
    {
     "ename": "KeyboardInterrupt",
     "evalue": "",
     "output_type": "error",
     "traceback": [
      "\u001b[0;31m---------------------------------------------------------------------------\u001b[0m",
      "\u001b[0;31mKeyboardInterrupt\u001b[0m                         Traceback (most recent call last)",
      "Cell \u001b[0;32mIn[31], line 9\u001b[0m\n\u001b[1;32m      7\u001b[0m         play_sound(snippet)\n\u001b[1;32m      8\u001b[0m     \u001b[38;5;28mprint\u001b[39m(\u001b[38;5;124mf\u001b[39m\u001b[38;5;124m\"\u001b[39m\u001b[38;5;132;01m{\u001b[39;00mblock\u001b[38;5;132;01m}\u001b[39;00m\u001b[38;5;124m sounds played\u001b[39m\u001b[38;5;124m\"\u001b[39m)\n\u001b[0;32m----> 9\u001b[0m     \u001b[43mtime\u001b[49m\u001b[38;5;241;43m.\u001b[39;49m\u001b[43msleep\u001b[49m\u001b[43m(\u001b[49m\u001b[38;5;241;43m2\u001b[39;49m\u001b[43m)\u001b[49m\n\u001b[1;32m     10\u001b[0m     \u001b[38;5;28mprint\u001b[39m(\u001b[38;5;124m\"\u001b[39m\u001b[38;5;124m2 sec pause over\u001b[39m\u001b[38;5;124m\"\u001b[39m)\n\u001b[1;32m     11\u001b[0m \u001b[38;5;28mprint\u001b[39m(\u001b[38;5;124m\"\u001b[39m\u001b[38;5;124mExperiment is over.\u001b[39m\u001b[38;5;124m\"\u001b[39m)\n",
      "\u001b[0;31mKeyboardInterrupt\u001b[0m: "
     ]
    }
   ],
   "source": [
    "# Function to play a sound file and wait for it to finish\n",
    "print(\"Experiment starts now.\")\n",
    "for block in block_sequence:\n",
    "    preloaded_sounds = eval(f\"{block}_preloaded_sounds\")\n",
    "    play_this = random.sample(preloaded_sounds, BLOCK_LENGTH*2)\n",
    "    for snippet in play_this:\n",
    "        play_sound(snippet)\n",
    "    print(f\"{block} sounds played\")\n",
    "    time.sleep(2)\n",
    "    print(\"2 sec pause over\")\n",
    "print(\"Experiment is over.\")"
   ]
  }
 ],
 "metadata": {
  "kernelspec": {
   "display_name": "Python 3",
   "language": "python",
   "name": "python3"
  },
  "language_info": {
   "codemirror_mode": {
    "name": "ipython",
    "version": 3
   },
   "file_extension": ".py",
   "mimetype": "text/x-python",
   "name": "python",
   "nbconvert_exporter": "python",
   "pygments_lexer": "ipython3",
   "version": "3.10.12"
  }
 },
 "nbformat": 4,
 "nbformat_minor": 2
}
